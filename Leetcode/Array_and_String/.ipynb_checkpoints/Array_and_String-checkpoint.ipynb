{
 "cells": [
  {
   "cell_type": "markdown",
   "metadata": {},
   "source": [
    "# Find Pivot Index\n",
    "\n",
    "## Task description\n",
    "Given an array of integers ```nums```, write a method that returns the \"pivot\" index of this array.\n",
    "\n",
    "We define the pivot index as the index where the sum of the numbers to the left of the index is equal to the sum of the numbers to the right of the index.\n",
    "\n",
    "If no such index exists, we should return -1. If there are multiple pivot indexes, you should return the left-most pivot index.\n",
    "\n",
    "## Example: 1\n",
    "\n",
    "```\n",
    "Input: \n",
    "nums = [1, 7, 3, 6, 5, 6]\n",
    "Output: 3\n",
    "Explanation: \n",
    "The sum of the numbers to the left of index 3 (nums[3] = 6) is equal to the sum of numbers to the right of index 3.\n",
    "Also, 3 is the first index where this occurs.\n",
    "```\n",
    "\n",
    "## Example: 2\n",
    "\n",
    "```\n",
    "Input: \n",
    "nums = [1, 2, 3]\n",
    "Output: -1\n",
    "Explanation: \n",
    "There is no index that satisfies the conditions in the problem statement.\n",
    "```\n",
    "\n",
    "## Note:\n",
    "\n",
    "```\n",
    "- The length of nums will be in the range [0, 10000].\n",
    "- Each element nums[i] will be an integer in the range [-1000, 1000].\n",
    "```\n",
    "\n",
    "## Solution\n",
    "\n",
    "### Frist\n",
    "- 741 / 741 test cases passed.\n",
    "- Status: Accepted\n",
    "- Runtime: 200 ms\n",
    "- Memory Usage: 14.9 MB\n",
    "- Link: https://leetcode.com/submissions/detail/270049516/"
   ]
  },
  {
   "cell_type": "code",
   "execution_count": 5,
   "metadata": {
    "ExecuteTime": {
     "end_time": "2019-10-15T12:09:32.809578Z",
     "start_time": "2019-10-15T12:09:32.802693Z"
    },
    "collapsed": true
   },
   "outputs": [],
   "source": [
    "from typing import List\n",
    "class Solution:\n",
    "    def pivotIndex(self, nums: List[int]) -> int:\n",
    "        # prefix_sum = [nums[0]] # if input == [] -> error\n",
    "        # for num in nums[1:]:        \n",
    "        #     prefix_sum.append(prefix_sum[-1] + num)        \n",
    "        prefix_sum = 0\n",
    "        list_of_prefix_sum = []\n",
    "        for num in nums:\n",
    "            prefix_sum += num\n",
    "            list_of_prefix_sum.append(prefix_sum)\n",
    "                    \n",
    "        total_sum = prefix_sum #list_of_prefix_sum[-1]\n",
    "        for i, left_sum in enumerate(list_of_prefix_sum):\n",
    "            if left_sum-nums[i] == (total_sum-left_sum):\n",
    "                return i\n",
    "        return -1\n"
   ]
  },
  {
   "cell_type": "markdown",
   "metadata": {},
   "source": [
    "# Largest Number At Least Twice of Others\n",
    "\n",
    "## Task description\n",
    "In a given integer array nums, there is always exactly one largest element.\n",
    "\n",
    "Find whether the largest element in the array is at least twice as much as every other number in the array.\n",
    "\n",
    "If it is, return the index of the largest element, otherwise return -1.\n",
    "\n",
    "## Example: 1\n",
    "\n",
    "```\n",
    "Input: nums = [3, 6, 1, 0]\n",
    "Output: 1\n",
    "Explanation: 6 is the largest integer, and for every other number in the array x,\n",
    "6 is more than twice as big as x.  The index of value 6 is 1, so we return 1.\n",
    "```\n",
    "\n",
    "## Example: 2\n",
    "\n",
    "```\n",
    "Input: nums = [1, 2, 3, 4]\n",
    "Output: -1\n",
    "Explanation: 4 isn't at least as big as twice the value of 3, so we return -1.\n",
    "```\n",
    "\n",
    "## Note:\n",
    "\n",
    "```\n",
    "- nums will have a length in the range [1, 50].\n",
    "- Every nums[i] will be an integer in the range [0, 99].\n",
    "```\n",
    "\n",
    "## Solution\n",
    "\n",
    "### Frist\n",
    "\n",
    "- 250 / 250 test cases passed.\n",
    "- Status: Accepted\n",
    "- Runtime: 40 ms\n",
    "- Memory Usage: 14 MB\n",
    "- Link: https://leetcode.com/submissions/detail/270056328/"
   ]
  },
  {
   "cell_type": "code",
   "execution_count": null,
   "metadata": {
    "collapsed": true
   },
   "outputs": [],
   "source": [
    "class Solution:\n",
    "    def dominantIndex(self, nums: List[int]) -> int:        \n",
    "        # corner point         \n",
    "        if len(nums) == 1: \n",
    "            return 0\n",
    "        \n",
    "        sorted_nums = sorted(nums)            \n",
    "        if sorted_nums[-1] < sorted_nums[-2] * 2:\n",
    "            return -1\n",
    "        else:\n",
    "            return nums.index(sorted_nums[-1])"
   ]
  },
  {
   "cell_type": "code",
   "execution_count": 6,
   "metadata": {
    "ExecuteTime": {
     "end_time": "2019-10-15T12:09:33.758756Z",
     "start_time": "2019-10-15T12:09:33.753421Z"
    },
    "collapsed": true
   },
   "outputs": [],
   "source": [
    "# pow 쓰는거 보기        "
   ]
  },
  {
   "cell_type": "markdown",
   "metadata": {},
   "source": [
    "# Plus One\n",
    "\n",
    "## Task description\n",
    "Given a non-empty array of digits representing a non-negative integer, plus one to the integer.\n",
    "\n",
    "The digits are stored such that the most significant digit is at the head of the list, and each element in the array contain a single digit.\n",
    "\n",
    "You may assume the integer does not contain any leading zero, except the number 0 itself.\n",
    "\n",
    "## Example: 1\n",
    "\n",
    "```\n",
    "Input: [1,2,3]\n",
    "Output: [1,2,4]\n",
    "Explanation: The array represents the integer 123.\n",
    "```\n",
    "\n",
    "## Example: 2\n",
    "\n",
    "```\n",
    "Input: [4,3,2,1]\n",
    "Output: [4,3,2,2]\n",
    "Explanation: The array represents the integer 4321.\n",
    "```\n",
    "\n",
    "## Note:\n",
    "\n",
    "```\n",
    "```\n",
    "\n",
    "## Solution\n",
    "\n",
    "### Frist\n",
    "\n",
    "- 109 / 109 test cases passed.\n",
    "- Status: Accepted\n",
    "- Runtime: 32 ms\n",
    "- Memory Usage: 13.6 MB\n",
    "- Link: https://leetcode.com/submissions/detail/270072763/"
   ]
  },
  {
   "cell_type": "code",
   "execution_count": 7,
   "metadata": {
    "ExecuteTime": {
     "end_time": "2019-10-15T12:09:34.645584Z",
     "start_time": "2019-10-15T12:09:34.640597Z"
    },
    "collapsed": true
   },
   "outputs": [],
   "source": [
    "class Solution:\n",
    "    def plusOne(self, digits: List[int]) -> List[int]:\n",
    "        last_index = len(digits) - 1\n",
    "        while True:\n",
    "            \n",
    "            # if digits == [0]:\n",
    "            #     return [1]\n",
    "                        \n",
    "            if digits[last_index] != 9:\n",
    "                digits[last_index] += 1\n",
    "                return digits                \n",
    "            else:\n",
    "                digits[last_index] = 0                \n",
    "                last_index -= 1\n",
    "                \n",
    "            if last_index < 0:\n",
    "                return [1] + digits\n",
    "            \n",
    "        return digits\n"
   ]
  },
  {
   "cell_type": "markdown",
   "metadata": {
    "collapsed": true
   },
   "source": [
    "#  Diagonal Traverse\n",
    "\n",
    "## Task description\n",
    "Given a matrix of M x N elements (M rows, N columns), return all elements of the matrix in diagonal order as shown in the below image.\n",
    "\n",
    " \n",
    "\n",
    "Example:\n",
    "\n",
    "Input:\n",
    "[\n",
    " [ 1, 2, 3 ],\n",
    " [ 4, 5, 6 ],\n",
    " [ 7, 8, 9 ]\n",
    "]\n",
    "\n",
    "Output:  [1,2,4,7,5,3,6,8,9]\n",
    "\n",
    "Explanation:\n",
    "![](https://assets.leetcode.com/uploads/2018/10/12/diagonal_traverse.png)\n",
    " \n",
    "\n",
    "Note:\n",
    "\n",
    "The total number of elements of the given matrix will not exceed 10,000."
   ]
  },
  {
   "cell_type": "code",
   "execution_count": 42,
   "metadata": {
    "ExecuteTime": {
     "end_time": "2019-10-17T07:12:04.133986Z",
     "start_time": "2019-10-17T07:12:04.105543Z"
    }
   },
   "outputs": [
    {
     "data": {
      "text/plain": [
       "[3, 2]"
      ]
     },
     "execution_count": 42,
     "metadata": {},
     "output_type": "execute_result"
    }
   ],
   "source": [
    "# 틀린 풀이 ㅠㅠ\n",
    "from typing import List\n",
    "class Solution:\n",
    "    def findDiagonalOrder(self, matrix: List[List[int]]) -> List[int]:\n",
    "        # 끝까지 순회\n",
    "        # diagonal\n",
    "        # 지그재그\n",
    "        # 반 이상되면, 차이를 구해서 개만큼 더해줘서 뽑아내\n",
    "        is_even = False\n",
    "        res = []\n",
    "        row = len(matrix)\n",
    "        col = len(matrix[0]) if row != 0 else 0\n",
    "        \n",
    "        if col == 1:\n",
    "            return [elm[0] for elm in matrix]\n",
    "        \n",
    "        for i in range(row + col - 1):  \n",
    "            \n",
    "            if col <= i:\n",
    "                diff = i - col + 1\n",
    "                i = col -1 - diff\n",
    "                print(\"1. i: {}, diff: {}\".format(i, diff))\n",
    "            else:\n",
    "                diff = 0\n",
    "                print(\"2. i: {}, diff: {}\".format(i, diff))\n",
    "            \n",
    "            tmp_diag = []\n",
    "            for j in range(i, -1, -1):\n",
    "                new_row_idx = i-j +diff\n",
    "                new_col_idx = j +diff\n",
    "                if row <= new_row_idx or col <= new_col_idx:\n",
    "                    continue\n",
    "        \n",
    "                tmp_diag.append(matrix[new_row_idx][new_col_idx])        \n",
    "            if is_even is True:\n",
    "                is_even = False\n",
    "            else:\n",
    "                tmp_diag.reverse()\n",
    "                is_even = True\n",
    "            res.extend(tmp_diag)\n",
    "        \n",
    "        print(res)\n",
    "        return res\n",
    "\n",
    "Solution().findDiagonalOrder([[3],[2]])#([[2,3]]) #([[1,2,3],[4,5,6],[7,8,9]])"
   ]
  },
  {
   "cell_type": "markdown",
   "metadata": {},
   "source": [
    "- keypoint\n",
    "    - 결과값 담을 res 미리 선언해놓고 값도 0으로 채워넣어놓음\n",
    "    - up down flag\n",
    "    - iteration num == num of elements"
   ]
  },
  {
   "cell_type": "code",
   "execution_count": 43,
   "metadata": {
    "ExecuteTime": {
     "end_time": "2019-10-17T07:14:42.427910Z",
     "start_time": "2019-10-17T07:14:42.416243Z"
    }
   },
   "outputs": [
    {
     "data": {
      "text/plain": [
       "[3, 2]"
      ]
     },
     "execution_count": 43,
     "metadata": {},
     "output_type": "execute_result"
    }
   ],
   "source": [
    "# Solution\n",
    "class Solution:\n",
    "    def findDiagonalOrder(self, matrix):\n",
    "        \"\"\"\n",
    "        :type matrix: List[List[int]]\n",
    "        :rtype: List[int]\n",
    "        \"\"\"\n",
    "\n",
    "        # approach:\n",
    "        #     1. if col == n - 1 with up trend (right bolder), or\n",
    "        # .         col == 0 with down trend (left bolder):\n",
    "        #               move down, which means row += 1, and turn direction\n",
    "        #     2. if row == 0 with up trend (top bolder), or\n",
    "        #           row == m - 1 with down trend (bottom bolder):\n",
    "        #            move right, which means col += 1 and turn direction\n",
    "        #     3. Otherwise, go up-right or down-left by direction\n",
    "\n",
    "        m = len(matrix)\n",
    "        n = len(matrix[0]) if m > 0 else 0\n",
    "        if n == 0:\n",
    "            return []\n",
    "\n",
    "        result = [0 for i in range(m*n)]\n",
    "        up = True\n",
    "        row = col = 0\n",
    "\n",
    "        for i in range(m*n):\n",
    "            result[i] = matrix[row][col]\n",
    "\n",
    "            # check right bolder before top bolder in up trend\n",
    "            if up:\n",
    "                if col == n - 1:\n",
    "                    row = row + 1\n",
    "                    up =  not up\n",
    "                elif row == 0:\n",
    "                    col = col + 1\n",
    "                    up = not up\n",
    "                else:\n",
    "                    row = row - 1\n",
    "                    col = col + 1\n",
    "\n",
    "            # check bottom bolder before left bolder in down trend\n",
    "            else:\n",
    "                if row == m - 1:\n",
    "                    col = col + 1\n",
    "                    up = not up\n",
    "                elif col == 0:\n",
    "                    row = row + 1\n",
    "                    up = not up\n",
    "                else:\n",
    "                    row = row + 1\n",
    "                    col = col - 1\n",
    "\n",
    "        return result\n",
    "Solution().findDiagonalOrder([[3],[2]])            "
   ]
  },
  {
   "cell_type": "code",
   "execution_count": 130,
   "metadata": {
    "ExecuteTime": {
     "end_time": "2019-10-17T09:42:23.866468Z",
     "start_time": "2019-10-17T09:42:23.854514Z"
    }
   },
   "outputs": [
    {
     "name": "stdout",
     "output_type": "stream",
     "text": [
      "CPU times: user 2 µs, sys: 1e+03 ns, total: 3 µs\n",
      "Wall time: 5.96 µs\n"
     ]
    }
   ],
   "source": [
    "%time\n",
    "from typing import List\n",
    "class Solution:\n",
    "    def spiralOrder(self, matrix: List[List[int]]) -> List[int]:\n",
    "        \"\"\"\n",
    "        1. 방향에 대한 플래그가 필요\n",
    "        2. 조건문이 4개 되겠지\n",
    "        3. 한바퀴 돌면 줄어들어야함\n",
    "        4. 종료조건은 모든 elm 돌았을때임\n",
    "    \n",
    "        \"\"\"\n",
    "                \n",
    "        m = len(matrix)\n",
    "        n = len(matrix[0]) if m != 0 else 0\n",
    "        move_to = \"right\"\n",
    "        row, col = 0, -1\n",
    "        circle_counter = 0\n",
    "        \n",
    "        if n == 0:\n",
    "            return []\n",
    "        \n",
    "        res = [0 for i in range(m * n)]\n",
    "        \n",
    "        for i in range(m * n):\n",
    "            \n",
    "            print(\"i: \", i)\n",
    "            print(\"m * n : \", m*n)\n",
    "                        \n",
    "            if move_to == \"right\":\n",
    "                if col < n-circle_counter - 1:\n",
    "                    col += 1\n",
    "                    print(\"n-circle_counter - 1: \", n-circle_counter - 1)\n",
    "                    print(\"row: {}, col: {}\".format(row, col))\n",
    "                    print(\"res: \", res)\n",
    "                    res[i] = matrix[row][col]\n",
    "                else:\n",
    "                    move_to = \"down\"\n",
    "            if move_to == \"down\":\n",
    "                if row < m-circle_counter - 1:\n",
    "                    row += 1\n",
    "                    res[i] = matrix[row][col]\n",
    "                else:\n",
    "                    move_to = \"left\"\n",
    "            if move_to == \"left\":\n",
    "                if 0 < col-circle_counter:\n",
    "                    print(\"col-circle_counter: \", col-circle_counter)\n",
    "                    print(\"row: {}, col: {}\".format(row, col))\n",
    "                    print(\"res: \", res)\n",
    "                    col -= 1\n",
    "                    res[i] = matrix[row][col]\n",
    "                else:\n",
    "                    move_to = \"up\"\n",
    "                    circle_counter += 1\n",
    "            if move_to == \"up\":\n",
    "                if 0 < row-circle_counter:\n",
    "                    print(\"row-circle_counter: \", row-circle_counter)\n",
    "                    print(\"row: {}, col: {}\".format(row, col))\n",
    "                    print(\"res: \", res)\n",
    "                    row -= 1\n",
    "                    res[i] = matrix[row][col]\n",
    "                    \n",
    "                    if 0 == row-circle_counter: # 마지막만 조건다르게!\n",
    "                        move_to = \"right\"\n",
    "#                 else:\n",
    "#                     move_to = \"right\"\n",
    "#             if move_to == \"right\":\n",
    "#                 if col < n-circle_counter - 1:\n",
    "#                     col += 1\n",
    "#                     print(\"n-circle_counter - 1: \", n-circle_counter - 1)\n",
    "#                     print(\"row: {}, col: {}\".format(row, col))\n",
    "#                     print(\"res: \", res)\n",
    "#                     res[i] = matrix[row][col]\n",
    "#                 else:\n",
    "#                     move_to = \"down\"\n",
    "\n",
    "        return res"
   ]
  },
  {
   "cell_type": "code",
   "execution_count": 132,
   "metadata": {
    "ExecuteTime": {
     "end_time": "2019-10-17T09:42:32.158909Z",
     "start_time": "2019-10-17T09:42:32.151941Z"
    }
   },
   "outputs": [
    {
     "name": "stdout",
     "output_type": "stream",
     "text": [
      "CPU times: user 2 µs, sys: 1e+03 ns, total: 3 µs\n",
      "Wall time: 5.01 µs\n",
      "i:  0\n",
      "m * n :  2\n",
      "n-circle_counter - 1:  1\n",
      "row: 0, col: 0\n",
      "res:  [0, 0]\n",
      "i:  1\n",
      "m * n :  2\n",
      "n-circle_counter - 1:  1\n",
      "row: 0, col: 1\n",
      "res:  [2, 0]\n",
      "[2, 3]\n"
     ]
    }
   ],
   "source": [
    "%time            \n",
    "input = \\\n",
    "[\n",
    " [ 1, 2, 3 ],\n",
    " [ 4, 5, 6 ],\n",
    " [ 7, 8, 9 ]\n",
    "]\n",
    "\n",
    "input = [[2,3]]\n",
    "\n",
    "output = [1,2,3,6,9,8,7,4,5]\n",
    "print(Solution().spiralOrder(input))\n",
    "# assert Solution().spiralOrder(input) == output"
   ]
  },
  {
   "cell_type": "markdown",
   "metadata": {
    "collapsed": true
   },
   "source": [
    "#  Add Binary\n",
    "\n",
    "## Task description\n",
    "Given two binary strings, return their sum (also a binary string).\n",
    "The input strings are both non-empty and contains only characters 1 or 0\n",
    " \n",
    "\n",
    "Example 1:\n",
    "\n",
    "Input: a = \"11\", b = \"1\"\n",
    "Output: \"100\"\n",
    "\n",
    "Example 2:\n",
    "\n",
    "Input: a = \"1010\", b = \"1011\"\n",
    "Output: \"10101\"\n"
   ]
  },
  {
   "cell_type": "code",
   "execution_count": 1,
   "metadata": {
    "ExecuteTime": {
     "end_time": "2019-10-18T05:31:42.537161Z",
     "start_time": "2019-10-18T05:31:42.531592Z"
    },
    "collapsed": true
   },
   "outputs": [],
   "source": [
    "class Solution:\n",
    "    def addBinary(self, a: str, b: str) -> str:\n",
    "        a, b = int(a, 2), int(b, 2)        \n",
    "        return str(format(a + b, 'b'))"
   ]
  },
  {
   "cell_type": "code",
   "execution_count": 3,
   "metadata": {
    "ExecuteTime": {
     "end_time": "2019-10-18T05:32:10.730480Z",
     "start_time": "2019-10-18T05:32:10.724724Z"
    }
   },
   "outputs": [
    {
     "name": "stdout",
     "output_type": "stream",
     "text": [
      "CPU times: user 3 µs, sys: 1e+03 ns, total: 4 µs\n",
      "Wall time: 16.2 µs\n",
      "10101\n"
     ]
    }
   ],
   "source": [
    "%time\n",
    "a = \"1010\"\n",
    "b = \"1011\"\n",
    "\n",
    "print(Solution().addBinary(a, b))"
   ]
  },
  {
   "cell_type": "markdown",
   "metadata": {},
   "source": [
    "#  Longest Common Prefix\n",
    "\n",
    "## Task description\n",
    "Write a function to find the longest common prefix string amongst an array of strings.\n",
    "If there is no common prefix, return an empty string \"\".\n",
    "\n",
    "Example 1:\n",
    "\n",
    "Input: [\"flower\",\"flow\",\"flight\"]\n",
    "Output: \"fl\"\n",
    "\n",
    "Example 2:\n",
    "\n",
    "Input: [\"dog\",\"racecar\",\"car\"]\n",
    "Output: \"\"\n",
    "\n",
    "Explanation: There is no common prefix among the input strings.\n",
    "\n",
    "Note:\n",
    "All given inputs are in lowercase letters a-z.\n"
   ]
  },
  {
   "cell_type": "code",
   "execution_count": 6,
   "metadata": {
    "ExecuteTime": {
     "end_time": "2019-10-18T05:58:36.884811Z",
     "start_time": "2019-10-18T05:58:36.876367Z"
    }
   },
   "outputs": [
    {
     "name": "stdout",
     "output_type": "stream",
     "text": [
      "CPU times: user 17 µs, sys: 1e+03 ns, total: 18 µs\n",
      "Wall time: 21.9 µs\n"
     ]
    }
   ],
   "source": [
    "%time\n",
    "from typing import List\n",
    "class Solution:\n",
    "    def longestCommonPrefix(self, strs: List[str]) -> str:\n",
    "        length = 0        \n",
    "        list_of_strs = [list(item) for item in strs]\n",
    "        # print(\"list_of_strs: \", list_of_strs)\n",
    "        for col in zip(*list_of_strs): # zip으로 쭉 감싸서 했는데, * 로 차원 하나 reduce해주고.. 근데 이게 복잡도가 어떨진 모르겠다 set을 계속 쓰니\n",
    "            if len(set(col)) != 1:\n",
    "                break\n",
    "            else:\n",
    "                length += 1\n",
    "                \n",
    "        if length == 0:\n",
    "            return \"\"\n",
    "        else:\n",
    "            return strs[0][:length]"
   ]
  },
  {
   "cell_type": "code",
   "execution_count": 7,
   "metadata": {
    "ExecuteTime": {
     "end_time": "2019-10-18T05:58:37.066196Z",
     "start_time": "2019-10-18T05:58:37.060932Z"
    }
   },
   "outputs": [
    {
     "name": "stdout",
     "output_type": "stream",
     "text": [
      "CPU times: user 3 µs, sys: 0 ns, total: 3 µs\n",
      "Wall time: 6.91 µs\n",
      "fl\n"
     ]
    }
   ],
   "source": [
    "%time\n",
    "_input = [\"flower\",\"flow\",\"flight\"]\n",
    "\n",
    "\n",
    "print(Solution().longestCommonPrefix(_input))        "
   ]
  },
  {
   "cell_type": "markdown",
   "metadata": {
    "collapsed": true
   },
   "source": [
    "#  Array Partition I\n",
    "\n",
    "## Task description\n",
    "Given an array of 2n integers, your task is to group these integers into n pairs of integer, say (a1, b1), (a2, b2), ..., (an, bn) which makes sum of min(ai, bi) for all i from 1 to n as large as possible.\n",
    "\n",
    "Example 1:\n",
    "- Input: [1,4,3,2]\n",
    "\n",
    "Output: 4\n",
    "- Explanation: n is 2, and the maximum sum of pairs is 4 = min(1, 2) + min(3, 4).\n",
    "\n",
    "Note:   \n",
    "- n is a positive integer, which is in the range of [1, 10000].   \n",
    "- All the integers in the array will be in the range of [-10000, 10000].    ## Lowerbound 잘봐야! min, max 할때!\n"
   ]
  },
  {
   "cell_type": "code",
   "execution_count": 10,
   "metadata": {
    "ExecuteTime": {
     "end_time": "2019-10-18T09:16:11.969808Z",
     "start_time": "2019-10-18T09:16:11.952881Z"
    }
   },
   "outputs": [
    {
     "data": {
      "text/plain": [
       "[1, 3, 5, 7, 9]"
      ]
     },
     "execution_count": 10,
     "metadata": {},
     "output_type": "execute_result"
    }
   ],
   "source": [
    "perm = [1,2,3,4,5,6,7,8,9,10]\n",
    "perm[::2]"
   ]
  },
  {
   "cell_type": "code",
   "execution_count": 25,
   "metadata": {
    "ExecuteTime": {
     "end_time": "2019-10-18T09:31:55.164621Z",
     "start_time": "2019-10-18T09:31:55.157357Z"
    }
   },
   "outputs": [
    {
     "name": "stdout",
     "output_type": "stream",
     "text": [
      "4\n"
     ]
    }
   ],
   "source": [
    "class Solution:\n",
    "    def arrayPairSum(self, nums: List[int]) -> int:\n",
    "        from itertools import permutations\n",
    "        length = len(nums) \n",
    "        if length <= 2:\n",
    "            return min(nums)\n",
    "        max_sum = -10000 ** 100\n",
    "        list_of_perm = permutations(nums, length) # 풀었지만 Perm이 너무 오래 걸려서 안좋음.            \n",
    "        for perm in list_of_perm:            \n",
    "            _sum = sum([min(perm[2 * i : 2 * i + 2]) for i in range(len(perm)//2)])\n",
    "            if max_sum < _sum:\n",
    "                max_sum = _sum\n",
    "        return max_sum\n",
    "\n",
    "# Testcase for corner point\n",
    "print(Solution().arrayPairSum([1,4,3,2])) # Error\n",
    "# print(Solution().arrayPairSum([11, 41, -9046, 2047, 1118, 8477, 8446, 279, 4925, 7380, -1719, 3855])) # Error"
   ]
  },
  {
   "cell_type": "markdown",
   "metadata": {},
   "source": [
    "- 그냥 nlogn 희생해서.. sorting해서 풀면 되었었는데.. 당연히 정렬하면, 인접한거끼리 붙을거고 본 문제에선 결국 min pair의 max니 정렬이 답이었는데.. 돌아감"
   ]
  },
  {
   "cell_type": "code",
   "execution_count": 24,
   "metadata": {
    "ExecuteTime": {
     "end_time": "2019-10-18T09:31:49.949460Z",
     "start_time": "2019-10-18T09:31:49.935517Z"
    }
   },
   "outputs": [
    {
     "name": "stdout",
     "output_type": "stream",
     "text": [
      "CPU times: user 3 µs, sys: 0 ns, total: 3 µs\n",
      "Wall time: 16 µs\n",
      "6662\n"
     ]
    }
   ],
   "source": [
    "%time\n",
    "class Solution:\n",
    "    def arrayPairSum(self, nums: List[int]) -> int:\n",
    "        from itertools import permutations\n",
    "        length = len(nums) \n",
    "        if length <= 2:\n",
    "            return min(nums)\n",
    "        max_sum = -10000 ** 100\n",
    "        sorted_nums = sorted(nums)                \n",
    "        _sum = sum([min(sorted_nums[2 * i : 2 * i + 2]) for i in range(len(sorted_nums)//2)])\n",
    "        if max_sum < _sum:\n",
    "            max_sum = _sum\n",
    "        return max_sum\n",
    "    \n",
    "print(Solution().arrayPairSum([11, 41, -9046, 2047, 1118, 8477, 8446, 279, 4925, 7380, -1719, 3855])) # Error"
   ]
  },
  {
   "cell_type": "markdown",
   "metadata": {},
   "source": [
    "#  Two Sum II - Input array is sorted\n",
    "\n",
    "## Task description\n",
    "\n",
    "Given an array of integers that is already sorted in ascending order, find two numbers such that they add up to a specific target number.\n",
    "\n",
    "The function twoSum should return indices of the two numbers such that they add up to the target, where index1 must be less than index2.\n",
    "\n",
    "Note:\n",
    "Your returned answers (both index1 and index2) are not zero-based.\n",
    "You may assume that each input would have exactly one solution and you may not use the same element twice.\n",
    "\n",
    "Example:\n",
    "Input: numbers = [2,7,11,15], target = 9\n",
    "Output: [1,2]\n",
    "\n",
    "Explanation: The sum of 2 and 7 is 9. Therefore index1 = 1, index2 = 2."
   ]
  },
  {
   "cell_type": "code",
   "execution_count": null,
   "metadata": {
    "collapsed": true
   },
   "outputs": [],
   "source": [
    "class Solution:\n",
    "    def twoSum(self, numbers: List[int], target: int) -> List[int]:\n",
    "        list_to_dict = {val:i for i, val in enumerate(numbers)}\n",
    "        for i, num in enumerate(numbers):\n",
    "            diff = target - num\n",
    "            if diff in list_to_dict:\n",
    "                if list_to_dict[diff] == i: continue\n",
    "                                \n",
    "                if list_to_dict[diff] < i:\n",
    "                    return list_to_dict[diff]+1, i+1\n",
    "                else:\n",
    "                    return i+1, list_to_dict[diff]+1\n",
    "                    "
   ]
  }
 ],
 "metadata": {
  "kernelspec": {
   "display_name": "dl_py3",
   "language": "python",
   "name": "dl_py3"
  },
  "language_info": {
   "codemirror_mode": {
    "name": "ipython",
    "version": 3
   },
   "file_extension": ".py",
   "mimetype": "text/x-python",
   "name": "python",
   "nbconvert_exporter": "python",
   "pygments_lexer": "ipython3",
   "version": "3.6.5"
  }
 },
 "nbformat": 4,
 "nbformat_minor": 2
}
