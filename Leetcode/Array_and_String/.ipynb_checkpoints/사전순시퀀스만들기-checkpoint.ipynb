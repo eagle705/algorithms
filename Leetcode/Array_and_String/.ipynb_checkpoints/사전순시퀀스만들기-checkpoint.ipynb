{
 "cells": [
  {
   "cell_type": "code",
   "execution_count": 2,
   "metadata": {
    "ExecuteTime": {
     "end_time": "2019-10-15T06:33:48.837389Z",
     "start_time": "2019-10-15T06:33:48.813931Z"
    }
   },
   "outputs": [
    {
     "name": "stdout",
     "output_type": "stream",
     "text": [
      "제거 우선 리스트 :  [3, 0, 4, 0, 2, 0]\n",
      "['b', 'a', 'a', 'n', 'a']\n",
      "제거 우선 리스트 :  [3, 0, 0, 2, 0]\n",
      "['a', 'a', 'n', 'a']\n",
      "제거 우선 리스트 :  [0, 0, 1, 0]\n",
      "['a', 'a', 'a']\n",
      "제거 우선 리스트 :  [0, 0, 0]\n"
     ]
    },
    {
     "data": {
      "text/plain": [
       "('aaa', 3)"
      ]
     },
     "execution_count": 2,
     "metadata": {},
     "output_type": "execute_result"
    }
   ],
   "source": [
    "def give_me_a_string(string):\n",
    "    string_list = list(string)\n",
    "    answer=0\n",
    "    while True:\n",
    "        value_list = get_value_list(''.join(string_list))\n",
    "        priority_list = get_priority_list(''.join(string_list), value_list)\n",
    "        max_value = max(priority_list)\n",
    "        flag = True\n",
    "        for p in priority_list:\n",
    "            if p >= 1:\n",
    "                flag=False\n",
    "        if flag:\n",
    "            break\n",
    "        for i in range(len(priority_list)):\n",
    "            if max_value == priority_list[i]:\n",
    "                priority_list.pop(i)\n",
    "                string_list.pop(i)\n",
    "                value_list.pop(i)\n",
    "                answer = answer + 1\n",
    "                break\n",
    "        print(string_list)\n",
    "    return ''.join(string_list), answer\n",
    "\n",
    "def get_value_list(string):\n",
    "    alphabet = list(map(chr, range(97, 123)))\n",
    "    value_list = [0]*len(string)\n",
    "    count = 1\n",
    "    value_list = [0]*len(string)\n",
    "    for a in alphabet:\n",
    "        flag = False\n",
    "        for s in range(len(string)):\n",
    "            if a == string[s]:\n",
    "                value_list[s] = count\n",
    "                flag = True\n",
    "        if flag:\n",
    "            count = count + 1\n",
    "    return value_list\n",
    "\n",
    "\n",
    "def get_priority_list(string, value_list):\n",
    "    priority_list = [0]*len(string)\n",
    "    for i in range(len(priority_list)):\n",
    "        for j in range(i + 1, len(string)):\n",
    "            if value_list[i] > value_list[j]:\n",
    "                priority_list[i] = priority_list[i] + value_list[i] - value_list[j]\n",
    "    print(\"제거 우선 리스트 : \", priority_list)\n",
    "    return priority_list\n",
    "\n",
    "give_me_a_string('banana') # qwneoqiweqoiwe"
   ]
  },
  {
   "cell_type": "code",
   "execution_count": null,
   "metadata": {
    "collapsed": true
   },
   "outputs": [],
   "source": []
  }
 ],
 "metadata": {
  "kernelspec": {
   "display_name": "dl_py3",
   "language": "python",
   "name": "dl_py3"
  },
  "language_info": {
   "codemirror_mode": {
    "name": "ipython",
    "version": 3
   },
   "file_extension": ".py",
   "mimetype": "text/x-python",
   "name": "python",
   "nbconvert_exporter": "python",
   "pygments_lexer": "ipython3",
   "version": "3.6.5"
  }
 },
 "nbformat": 4,
 "nbformat_minor": 2
}
