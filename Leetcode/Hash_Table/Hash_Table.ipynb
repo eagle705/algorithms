{
 "cells": [
  {
   "cell_type": "markdown",
   "metadata": {},
   "source": [
    "# Design HashSet\n",
    "\n",
    "## Task description\n",
    "Design a HashSet without using any built-in hash table libraries.   \n",
    "\n",
    "To be specific, your design should include these functions:   \n",
    "\n",
    "- add(value): Insert a value into the HashSet. \n",
    "- contains(value) : Return whether the value exists in the HashSet or not.\n",
    "- remove(value): Remove a value in the HashSet. If the value does not exist in the HashSet, do nothing.\n",
    "\n",
    "## Example: 1\n",
    "\n",
    "```\n",
    "MyHashSet hashSet = new MyHashSet();\n",
    "hashSet.add(1);         \n",
    "hashSet.add(2);         \n",
    "hashSet.contains(1);    // returns true\n",
    "hashSet.contains(3);    // returns false (not found)\n",
    "hashSet.add(2);          \n",
    "hashSet.contains(2);    // returns true\n",
    "hashSet.remove(2);          \n",
    "hashSet.contains(2);    // returns false (already removed)\n",
    "```\n",
    "\n",
    "\n",
    "## Note:\n",
    "\n",
    "```\n",
    "- All values will be in the range of [0, 1000000].\n",
    "- The number of operations will be in the range of [1, 10000].\n",
    "- Please do not use the built-in HashSet library.\n",
    "```\n",
    "\n",
    "## Solution\n",
    "\n",
    "### Frist\n",
    "- 28 / 28 test cases passed.\n",
    "- Status: Accepted\n",
    "- Runtime: 180 ms\n",
    "- Memory Usage: 18.5 MB\n",
    "- Link: https://leetcode.com/submissions/detail/275811028/\n"
   ]
  },
  {
   "cell_type": "code",
   "execution_count": 13,
   "metadata": {
    "ExecuteTime": {
     "end_time": "2019-11-04T04:55:44.121441Z",
     "start_time": "2019-11-04T04:55:44.083753Z"
    },
    "collapsed": true
   },
   "outputs": [],
   "source": [
    "class MyHashSet:\n",
    "\n",
    "    def __init__(self):\n",
    "        \"\"\"\n",
    "        Initialize your data structure here.\n",
    "        \"\"\"\n",
    "        self._set = set()\n",
    "\n",
    "    def add(self, key: int) -> None:\n",
    "        if not self.contains(key):\n",
    "            self._set.add(key)\n",
    "\n",
    "    def remove(self, key: int) -> None:\n",
    "        if self.contains(key):\n",
    "            self._set.remove(key)\n",
    "\n",
    "    def contains(self, key: int) -> bool:\n",
    "        \"\"\"\n",
    "        Returns true if this set contains the specified element\n",
    "        \"\"\"\n",
    "        return True if key in self._set else False\n",
    "            \n",
    "        \n",
    "\n",
    "\n",
    "# Your MyHashSet object will be instantiated and called as such:\n",
    "# obj = MyHashSet()\n",
    "# obj.add(key)\n",
    "# obj.remove(key)\n",
    "# param_3 = obj.contains(key)"
   ]
  },
  {
   "cell_type": "markdown",
   "metadata": {
    "ExecuteTime": {
     "end_time": "2019-11-04T04:38:48.674441Z",
     "start_time": "2019-11-04T04:38:48.668260Z"
    }
   },
   "source": [
    "# Design HashMap\n",
    "\n",
    "## Task description\n",
    "Design a HashMap without using any built-in hash table libraries.   \n",
    "\n",
    "To be specific, your design should include these functions:   \n",
    "\n",
    "- put(key, value) : Insert a (key, value) pair into the HashMap. If the value already exists in the HashMap, update the value.\n",
    "- get(key): Returns the value to which the specified key is mapped, or -1 if this map contains no mapping for the key.\n",
    "- remove(key) : Remove the mapping for the value key if this map contains the mapping for the key.\n",
    "\n",
    "## Example: 1\n",
    "\n",
    "```\n",
    "MyHashMap hashMap = new MyHashMap();\n",
    "hashMap.put(1, 1);          \n",
    "hashMap.put(2, 2);         \n",
    "hashMap.get(1);            // returns 1\n",
    "hashMap.get(3);            // returns -1 (not found)\n",
    "hashMap.put(2, 1);          // update the existing value\n",
    "hashMap.get(2);            // returns 1 \n",
    "hashMap.remove(2);          // remove the mapping for 2\n",
    "hashMap.get(2);            // returns -1 (not found) \n",
    "```\n",
    "\n",
    "\n",
    "## Note:\n",
    "\n",
    "```\n",
    "- All keys and values will be in the range of [0, 1000000].\n",
    "- The number of operations will be in the range of [1, 10000].\n",
    "- Please do not use the built-in HashMap library.\n",
    "```\n",
    "\n",
    "## Solution\n",
    "\n",
    "### Frist\n",
    "- 33 / 33 test cases passed.\n",
    "- Status: Accepted\n",
    "- Runtime: 220 ms\n",
    "- Memory Usage: 16.6 MB\n",
    "- Link: https://leetcode.com/submissions/detail/275815989/\n"
   ]
  },
  {
   "cell_type": "code",
   "execution_count": 14,
   "metadata": {
    "ExecuteTime": {
     "end_time": "2019-11-04T05:15:09.750030Z",
     "start_time": "2019-11-04T05:15:09.713148Z"
    },
    "collapsed": true
   },
   "outputs": [],
   "source": [
    "from collections import defaultdict\n",
    "class MyHashMap:\n",
    "\n",
    "    def __init__(self):\n",
    "        \"\"\"\n",
    "        Initialize your data structure here.\n",
    "        \"\"\"\n",
    "        self._key_to_list = defaultdict(list)\n",
    "\n",
    "    def put(self, key: int, value: int) -> None:\n",
    "        \"\"\"\n",
    "        value will always be non-negative.\n",
    "        \"\"\"\n",
    "        self._key_to_list[key].append(value)\n",
    "\n",
    "    def get(self, key: int) -> int:\n",
    "        \"\"\"\n",
    "        Returns the value to which the specified key is mapped, or -1 if this map contains no mapping for the key\n",
    "        \"\"\"\n",
    "        return -1 if key not in self._key_to_list else self._key_to_list[key][-1] \n",
    "\n",
    "    def remove(self, key: int) -> None:\n",
    "        \"\"\"\n",
    "        Removes the mapping of the specified value key if this map contains a mapping for the key\n",
    "        \"\"\"\n",
    "        if key not in self._key_to_list:\n",
    "            pass\n",
    "        else:\n",
    "            del self._key_to_list[key]\n",
    "\n",
    "\n",
    "# Your MyHashMap object will be instantiated and called as such:\n",
    "# obj = MyHashMap()\n",
    "# obj.put(key,value)\n",
    "# param_2 = obj.get(key)\n",
    "# obj.remove(key)"
   ]
  },
  {
   "cell_type": "markdown",
   "metadata": {},
   "source": [
    "# Contains Duplicate\n",
    "\n",
    "## Task description\n",
    "Given an array of integers, find if the array contains any duplicates.\n",
    "\n",
    "Your function should return true if any value appears at least twice in the array, and it should return false if every element is distinct.\n",
    "\n",
    "## Examples: \n",
    "\n",
    "```\n",
    "Input: [1,2,3,1]\n",
    "Output: true\n",
    "\n",
    "Input: [1,2,3,4]\n",
    "Output: false\n",
    "\n",
    "Input: [1,1,1,3,3,4,3,2,4,2]\n",
    "Output: true\n",
    "```\n",
    "\n",
    "\n",
    "## Solution\n",
    "\n",
    "### Frist\n",
    "- 18 / 18 test cases passed.\n",
    "- Status: Accepted\n",
    "- Runtime: 140 ms\n",
    "- Memory Usage: 19.3 MB\n",
    "- Link: \n"
   ]
  },
  {
   "cell_type": "code",
   "execution_count": 18,
   "metadata": {
    "ExecuteTime": {
     "end_time": "2019-11-04T05:16:42.869078Z",
     "start_time": "2019-11-04T05:16:42.865170Z"
    }
   },
   "outputs": [],
   "source": [
    "from typing import List\n",
    "class Solution:\n",
    "    def containsDuplicate(self, nums: List[int]) -> bool:\n",
    "        if len(nums) == len(set(nums)):\n",
    "            return False\n",
    "        else:\n",
    "            return True"
   ]
  },
  {
   "cell_type": "code",
   "execution_count": 19,
   "metadata": {
    "ExecuteTime": {
     "end_time": "2019-11-04T05:44:03.025524Z",
     "start_time": "2019-11-04T05:44:03.007999Z"
    }
   },
   "outputs": [
    {
     "data": {
      "text/plain": [
       "32"
      ]
     },
     "execution_count": 19,
     "metadata": {},
     "output_type": "execute_result"
    }
   ],
   "source": [
    "2 ** 5"
   ]
  },
  {
   "cell_type": "markdown",
   "metadata": {},
   "source": [
    "# Happy Number\n",
    "\n",
    "## Task description\n",
    "Write an algorithm to determine if a number is \"happy\".\n",
    "\n",
    "A happy number is a number defined by the following process: Starting with any positive integer, replace the number by the sum of the squares of its digits, and repeat the process until the number equals 1 (where it will stay), or it loops endlessly in a cycle which does not include 1. Those numbers for which this process ends in 1 are happy numbers.\n",
    "## Examples: \n",
    "\n",
    "```\n",
    "Input: 19\n",
    "Output: true\n",
    "Explanation: \n",
    "1 ** 2 + 9 ** 2 = 82\n",
    "8 ** 2 + 2 ** 2 = 68\n",
    "6 ** 2 + 8 ** 2 = 100\n",
    "1 ** 2 + 0 ** 2 + 0 ** 2 = 1\n",
    "```\n",
    "\n",
    "\n",
    "## Solution\n",
    "\n",
    "### Frist\n",
    "- 401 / 401 test cases passed.\n",
    "- Status: Accepted\n",
    "- Runtime: 48 ms\n",
    "- Memory Usage: 13.8 MB\n",
    "- Link: https://leetcode.com/submissions/detail/275841378/\n"
   ]
  },
  {
   "cell_type": "code",
   "execution_count": 20,
   "metadata": {
    "ExecuteTime": {
     "end_time": "2019-11-04T06:36:20.636427Z",
     "start_time": "2019-11-04T06:36:20.611414Z"
    },
    "collapsed": true
   },
   "outputs": [],
   "source": [
    "class Solution:\n",
    "    \n",
    "    def __init__(self):\n",
    "        self._memo = []\n",
    "    \n",
    "    def isHappy(self, n: int) -> bool:\n",
    "        \n",
    "        res = self.convert_num_to_square(n)\n",
    "        if res == 1:\n",
    "            return True\n",
    "        else:\n",
    "            if res in self._memo: # 종료 조건을 찾아주는게 키포인트였어, 근데 소수처럼 겹치지 않는 수열이면 어쩔뻔했지..?!\n",
    "                return False # loop!!\n",
    "            else:\n",
    "                self._memo.append(res)\n",
    "                return self.isHappy(res)\n",
    "        \n",
    "    def convert_num_to_square(self, n: int):\n",
    "        list_of_num = list(str(n))\n",
    "        length = len(list_of_num)\n",
    "        sum_num = 0\n",
    "        for idx in range(length-1, -1, -1):\n",
    "            sum_num += int(list_of_num[idx]) ** 2\n",
    "        return sum_num\n",
    "            "
   ]
  },
  {
   "cell_type": "code",
   "execution_count": null,
   "metadata": {
    "collapsed": true
   },
   "outputs": [],
   "source": []
  }
 ],
 "metadata": {
  "kernelspec": {
   "display_name": "dl_py3",
   "language": "python",
   "name": "dl_py3"
  },
  "language_info": {
   "codemirror_mode": {
    "name": "ipython",
    "version": 3
   },
   "file_extension": ".py",
   "mimetype": "text/x-python",
   "name": "python",
   "nbconvert_exporter": "python",
   "pygments_lexer": "ipython3",
   "version": "3.6.5"
  }
 },
 "nbformat": 4,
 "nbformat_minor": 2
}
