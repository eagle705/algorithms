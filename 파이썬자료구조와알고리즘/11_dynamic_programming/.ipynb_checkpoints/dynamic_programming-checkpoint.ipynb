{
 "cells": [
  {
   "cell_type": "markdown",
   "metadata": {},
   "source": [
    "## Dynamic Programming\n",
    "- keypoint:\n",
    "    - 복잡한 문제를 재귀를 통해 간단한 하위 문제로 분류해서 단순화하여 해결\n",
    "    - 최적 부분 구조(optimal substructure)와 중복되는 부분 문제(overlapping subproblem) 갖고 있다면 dp로 해결 가능\n",
    "    - 최적 부분 구조는 답을 구하기 위해서 했던 계산을 반복해야하는 문제의 구조를 말함\n",
    "\n",
    "### 메모이제이션 (memoization)\n",
    "- keypoint:\n",
    "    - 이전에 계산한 값을 메모리에 저장하여 동일한 계산의 반복수행을 제거하는 기법\n",
    "    \n",
    "#### 피보나치 수열\n",
    "- 초기 F1, F2 항은 모두 1임\n",
    "![피보나치](http://mblogthumb1.phinf.naver.net/MjAxODAzMDdfMjEx/MDAxNTIwNDI2MjUzNzE2.ZKebbBKgYodMlYmK9tf1SJb9Aw6Yu4zwpZuiF8rLrjYg.y4zkMLCr7S6MWsJPiPng9odkB54Xr5KH_nA3aSrnfAUg.PNG.yyj9301/%EC%8A%A4%ED%81%AC%EB%A6%B0%EC%83%B7_2018-03-07_%EC%98%A4%ED%9B%84_9.24.18.png?type=w800)\n",
    "\n",
    "- 파이썬과 같은 고급언어는 변환 값을 캐싱해서 재귀식을 직접 구현 가능"
   ]
  },
  {
   "cell_type": "code",
   "execution_count": 13,
   "metadata": {
    "ExecuteTime": {
     "end_time": "2019-10-14T02:58:07.671756Z",
     "start_time": "2019-10-14T02:58:07.667323Z"
    }
   },
   "outputs": [],
   "source": [
    "from functools import wraps # https://velog.io/@doondoony/python-functools-wraps\n",
    "import time\n",
    "\n",
    "def benchmark(method):\n",
    "    @wraps(method)\n",
    "    def timed(*args, **kw):\n",
    "        ts = time.time()\n",
    "        result = method(*args, **kw)\n",
    "        te = time.time()\n",
    "        print(\"{0}: {1:0.2f} ms\".format(method.__name__, ((te-ts)*1000)))\n",
    "        return result\n",
    "    return timed"
   ]
  },
  {
   "cell_type": "code",
   "execution_count": 14,
   "metadata": {
    "ExecuteTime": {
     "end_time": "2019-10-14T02:58:07.887449Z",
     "start_time": "2019-10-14T02:58:07.877829Z"
    }
   },
   "outputs": [],
   "source": [
    "from functools import wraps\n",
    "#from benchmark import benchmark\n",
    "\n",
    "def memo(func):\n",
    "    cache = {}    \n",
    "    @wraps(func)\n",
    "    def wrap(*args):\n",
    "        if args not in cache:\n",
    "            cache[args] = func(*args)\n",
    "        return cache[args]\n",
    "    return wrap\n",
    "\n",
    "def fib(n):\n",
    "    if n < 2:\n",
    "        return n\n",
    "    else:\n",
    "        return fib(n-1) + fib(n-2) # n-2가 들어가야되니 2보다 작은게 종료조건\n",
    "\n",
    "@memo\n",
    "def fib2(n):\n",
    "    if n < 2:\n",
    "        return n\n",
    "    else:\n",
    "        return fib2(n-1) + fib2(n-2)\n",
    "\n",
    "def fib3(m, n):\n",
    "    if m[n] == 0:\n",
    "        m[n] = fib3(m, n-1) + fib3(m, n-2)\n",
    "    return m[n]\n",
    "\n",
    "@benchmark\n",
    "def test_fib(n):\n",
    "    print(fib(n))\n",
    "\n",
    "@benchmark\n",
    "def test_fib2(n):\n",
    "    print(fib2(n))\n",
    "    \n",
    "@benchmark\n",
    "def test_fib3(n):\n",
    "    m = [0] * (n+1) # 왜 n+1이지, index 0포함인가\n",
    "    m[0], m[1] = 1, 1\n",
    "    print(fib3(m, n))"
   ]
  },
  {
   "cell_type": "code",
   "execution_count": 15,
   "metadata": {
    "ExecuteTime": {
     "end_time": "2019-10-14T02:58:08.085762Z",
     "start_time": "2019-10-14T02:58:08.082344Z"
    },
    "collapsed": true
   },
   "outputs": [],
   "source": [
    "n = 25"
   ]
  },
  {
   "cell_type": "code",
   "execution_count": 16,
   "metadata": {
    "ExecuteTime": {
     "end_time": "2019-10-14T02:58:08.583235Z",
     "start_time": "2019-10-14T02:58:08.510750Z"
    }
   },
   "outputs": [
    {
     "name": "stdout",
     "output_type": "stream",
     "text": [
      "75025\n",
      "test_fib: 47.35 ms\n"
     ]
    }
   ],
   "source": [
    "test_fib(n)"
   ]
  },
  {
   "cell_type": "code",
   "execution_count": 17,
   "metadata": {
    "ExecuteTime": {
     "end_time": "2019-10-14T02:58:09.123169Z",
     "start_time": "2019-10-14T02:58:09.115319Z"
    }
   },
   "outputs": [
    {
     "name": "stdout",
     "output_type": "stream",
     "text": [
      "75025\n",
      "test_fib2: 0.30 ms\n"
     ]
    }
   ],
   "source": [
    "test_fib2(n)"
   ]
  },
  {
   "cell_type": "code",
   "execution_count": 18,
   "metadata": {
    "ExecuteTime": {
     "end_time": "2019-10-14T02:58:09.667782Z",
     "start_time": "2019-10-14T02:58:09.662193Z"
    }
   },
   "outputs": [
    {
     "name": "stdout",
     "output_type": "stream",
     "text": [
      "121393\n",
      "test_fib3: 0.23 ms\n"
     ]
    }
   ],
   "source": [
    "test_fib3(n)"
   ]
  },
  {
   "cell_type": "markdown",
   "metadata": {},
   "source": [
    "#### 최장 증가 부분열 (longest increasing subsequnece)\n",
    "- 증가하는 순서대로(오름차순) 숫자를 고른 부분열의 길이가 최대가 되게 하기\n",
    "- 예를 들어, [94, 8, 78, 22, 38, 79, 93, 8, 84, 39]에서 최장 증가 '부분열'은 다음과 같음\n",
    "    - [8, 22, 38, 79, 93]\n",
    "    - [8, 22, 38, 79, 84]\n"
   ]
  },
  {
   "cell_type": "code",
   "execution_count": 32,
   "metadata": {
    "ExecuteTime": {
     "end_time": "2019-10-14T09:28:51.560987Z",
     "start_time": "2019-10-14T09:28:51.551125Z"
    },
    "collapsed": true
   },
   "outputs": [],
   "source": [
    "def my_longest_subseq(seq):\n",
    "    \"\"\" O(N**2) \"\"\"\n",
    "    max_len = 0\n",
    "    max_list_of_seq = None\n",
    "    for i in range(0, len(seq)-1):\n",
    "        tmp = seq[i]\n",
    "        list_of_seq = [tmp]        \n",
    "        for j in range(i+1, len(seq)):\n",
    "            if tmp < seq[j]: # 이런식의 그리디한 방법을 쓰면 78이후에 나오는 22가 무시됨\n",
    "                print(\"tmp:{}, seq:{}\".format(tmp, seq[j])) \n",
    "                list_of_seq.append(seq[j])\n",
    "                tmp = seq[j]\n",
    "            print(\"list_of_seq: \", list_of_seq)\n",
    "        \n",
    "        if max_len < len(list_of_seq):\n",
    "            max_len = len(list_of_seq)\n",
    "            max_list_of_seq = list_of_seq\n",
    "    return max_list_of_seq"
   ]
  },
  {
   "cell_type": "code",
   "execution_count": 34,
   "metadata": {
    "ExecuteTime": {
     "end_time": "2019-10-14T09:34:57.013545Z",
     "start_time": "2019-10-14T09:34:56.991099Z"
    }
   },
   "outputs": [
    {
     "name": "stdout",
     "output_type": "stream",
     "text": [
      "list_of_seq:  [94]\n",
      "list_of_seq:  [94]\n",
      "list_of_seq:  [94]\n",
      "list_of_seq:  [94]\n",
      "list_of_seq:  [94]\n",
      "list_of_seq:  [94]\n",
      "list_of_seq:  [94]\n",
      "list_of_seq:  [94]\n",
      "list_of_seq:  [94]\n",
      "tmp:8, seq:78\n",
      "list_of_seq:  [8, 78]\n",
      "list_of_seq:  [8, 78]\n",
      "list_of_seq:  [8, 78]\n",
      "tmp:78, seq:79\n",
      "list_of_seq:  [8, 78, 79]\n",
      "tmp:79, seq:93\n",
      "list_of_seq:  [8, 78, 79, 93]\n",
      "list_of_seq:  [8, 78, 79, 93]\n",
      "list_of_seq:  [8, 78, 79, 93]\n",
      "list_of_seq:  [8, 78, 79, 93]\n",
      "list_of_seq:  [78]\n",
      "list_of_seq:  [78]\n",
      "tmp:78, seq:79\n",
      "list_of_seq:  [78, 79]\n",
      "tmp:79, seq:93\n",
      "list_of_seq:  [78, 79, 93]\n",
      "list_of_seq:  [78, 79, 93]\n",
      "list_of_seq:  [78, 79, 93]\n",
      "list_of_seq:  [78, 79, 93]\n",
      "tmp:22, seq:38\n",
      "list_of_seq:  [22, 38]\n",
      "tmp:38, seq:79\n",
      "list_of_seq:  [22, 38, 79]\n",
      "tmp:79, seq:93\n",
      "list_of_seq:  [22, 38, 79, 93]\n",
      "list_of_seq:  [22, 38, 79, 93]\n",
      "list_of_seq:  [22, 38, 79, 93]\n",
      "list_of_seq:  [22, 38, 79, 93]\n",
      "tmp:38, seq:79\n",
      "list_of_seq:  [38, 79]\n",
      "tmp:79, seq:93\n",
      "list_of_seq:  [38, 79, 93]\n",
      "list_of_seq:  [38, 79, 93]\n",
      "list_of_seq:  [38, 79, 93]\n",
      "list_of_seq:  [38, 79, 93]\n",
      "tmp:79, seq:93\n",
      "list_of_seq:  [79, 93]\n",
      "list_of_seq:  [79, 93]\n",
      "list_of_seq:  [79, 93]\n",
      "list_of_seq:  [79, 93]\n",
      "list_of_seq:  [93]\n",
      "list_of_seq:  [93]\n",
      "list_of_seq:  [93]\n",
      "tmp:8, seq:84\n",
      "list_of_seq:  [8, 84]\n",
      "list_of_seq:  [8, 84]\n",
      "list_of_seq:  [84]\n"
     ]
    },
    {
     "data": {
      "text/plain": [
       "[8, 78, 79, 93]"
      ]
     },
     "execution_count": 34,
     "metadata": {},
     "output_type": "execute_result"
    }
   ],
   "source": [
    "test_case = [94, 8, 78, 22, 38, 79, 93, 8, 84, 39]\n",
    "my_longest_subseq(test_case)"
   ]
  },
  {
   "cell_type": "code",
   "execution_count": 50,
   "metadata": {
    "ExecuteTime": {
     "end_time": "2019-10-14T09:52:13.030912Z",
     "start_time": "2019-10-14T09:52:13.026949Z"
    },
    "collapsed": true
   },
   "outputs": [],
   "source": [
    "from bisect import bisect\n",
    "from itertools import combinations\n",
    "from functools import wraps\n",
    "\n",
    "def naive_longest_inc_subseq(seq):\n",
    "    for length in range(len(seq), 0, -1):\n",
    "        combination_of_seq = combinations(seq, length) # 이 안에서는 order가 바뀐 조합이 나오지 않음\n",
    "        for sub in combination_of_seq:\n",
    "            if list(sub) == sorted(sub):\n",
    "                return list(sub) # return len(sub) \n",
    "    return seq[-1]"
   ]
  },
  {
   "cell_type": "code",
   "execution_count": 51,
   "metadata": {
    "ExecuteTime": {
     "end_time": "2019-10-14T09:52:13.208705Z",
     "start_time": "2019-10-14T09:52:13.202976Z"
    }
   },
   "outputs": [
    {
     "data": {
      "text/plain": [
       "[8, 22, 38, 79, 93]"
      ]
     },
     "execution_count": 51,
     "metadata": {},
     "output_type": "execute_result"
    }
   ],
   "source": [
    "test_case = [94, 8, 78, 22, 38, 79, 93, 8, 84, 39]\n",
    "naive_longest_inc_subseq(test_case)"
   ]
  },
  {
   "cell_type": "code",
   "execution_count": 52,
   "metadata": {
    "ExecuteTime": {
     "end_time": "2019-10-14T09:52:13.975523Z",
     "start_time": "2019-10-14T09:52:13.967589Z"
    }
   },
   "outputs": [
    {
     "data": {
      "text/plain": [
       "[(1, 2, 3), (1, 2, 4), (1, 3, 4), (2, 3, 4)]"
      ]
     },
     "execution_count": 52,
     "metadata": {},
     "output_type": "execute_result"
    }
   ],
   "source": [
    "# combinations 함수에서는 input seq의 order가 바뀐 조합이 나오지 않음\n",
    "list(combinations([1,2,3,4], 3))"
   ]
  },
  {
   "cell_type": "code",
   "execution_count": 57,
   "metadata": {
    "ExecuteTime": {
     "end_time": "2019-10-14T10:21:00.342406Z",
     "start_time": "2019-10-14T10:21:00.327546Z"
    },
    "collapsed": true
   },
   "outputs": [],
   "source": [
    "def dp_longest_inc_subseq(seq):\n",
    "    \"\"\" 2) dp로 최장 증가 부분열 '길이'구하기 \"\"\"\n",
    "    L = [1] * len(seq) # 시작길이 1\n",
    "    res = []\n",
    "    for cur, val in enumerate(seq):\n",
    "        for pre in range(cur):\n",
    "            if seq[pre] <= val: # 현재가 pre보다 크면 한개씩 더하는데, prefix sum느낌, L[pre]가 이전에 증가했으면\n",
    "                L[cur] = max(L[cur], 1 + L[pre]) # 현 시점에서의 L[cur]은 항상 1이지만, 이전 시점에 대한 L[pre]는 쌓여있을 수 있음\n",
    "    print(L)\n",
    "    return max(L)"
   ]
  },
  {
   "cell_type": "code",
   "execution_count": 58,
   "metadata": {
    "ExecuteTime": {
     "end_time": "2019-10-14T10:21:00.468356Z",
     "start_time": "2019-10-14T10:21:00.457683Z"
    }
   },
   "outputs": [
    {
     "name": "stdout",
     "output_type": "stream",
     "text": [
      "[1, 1, 2, 2, 3, 4, 5, 2, 5, 4]\n"
     ]
    },
    {
     "data": {
      "text/plain": [
       "5"
      ]
     },
     "execution_count": 58,
     "metadata": {},
     "output_type": "execute_result"
    }
   ],
   "source": [
    "dp_longest_inc_subseq(test_case)"
   ]
  },
  {
   "cell_type": "code",
   "execution_count": null,
   "metadata": {
    "collapsed": true
   },
   "outputs": [],
   "source": []
  }
 ],
 "metadata": {
  "kernelspec": {
   "display_name": "dl_py3",
   "language": "python",
   "name": "dl_py3"
  },
  "language_info": {
   "codemirror_mode": {
    "name": "ipython",
    "version": 3
   },
   "file_extension": ".py",
   "mimetype": "text/x-python",
   "name": "python",
   "nbconvert_exporter": "python",
   "pygments_lexer": "ipython3",
   "version": "3.6.5"
  }
 },
 "nbformat": 4,
 "nbformat_minor": 2
}
