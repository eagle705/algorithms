{
 "cells": [
  {
   "cell_type": "markdown",
   "metadata": {
    "ExecuteTime": {
     "end_time": "2019-11-04T02:46:31.613770Z",
     "start_time": "2019-11-04T02:46:31.608170Z"
    },
    "collapsed": true
   },
   "source": [
    "## Hash Table\n",
    "- keypoint:\n",
    "    - key를 value에 연결하여, 하나의 키가 0 또는 1개의 값과 연관됨(~~무슨말이지~~)\n",
    "    - 각 키는 해시 함수(hash function)을 계산할 수 있어야함\n",
    "    - 해시 테이블은 해시 버킷(hash bucket)의 배열로 구성됨\n",
    "        - 예를 들어, 값이 42고 5개의 버킷이 있는 경우 나머지 연산(mod)를 이용해서 버킷 2 (=42 mode 5)에 맵핑함   \n",
    "    - 두개의 키가 동일한 버킷에 해시 될때 해시 충돌(hash collision) 발생\n",
    "        - 해결하기 위한 방법중 하나는 각 버킷에 key-value 쌍의 연결 리스트를 저장하는 것\n",
    "    - 해시 테이블의 조회, 삽입, 삭제의 시간복잡도는 O(1)임\n",
    "    - 최악의 경우 동일한 버킷으로 해시충돌이 되면 각 작업의 시간복잡도는 O(n)임\n",
    "   "
   ]
  },
  {
   "cell_type": "code",
   "execution_count": 2,
   "metadata": {
    "ExecuteTime": {
     "end_time": "2019-11-04T02:58:51.555152Z",
     "start_time": "2019-11-04T02:58:51.341462Z"
    }
   },
   "outputs": [
    {
     "ename": "ModuleNotFoundError",
     "evalue": "No module named 'linkedListFIFO'",
     "output_type": "error",
     "traceback": [
      "\u001b[0;31m---------------------------------------------------------------------------\u001b[0m",
      "\u001b[0;31mModuleNotFoundError\u001b[0m                       Traceback (most recent call last)",
      "\u001b[0;32m<ipython-input-2-42ae1ddc087b>\u001b[0m in \u001b[0;36m<module>\u001b[0;34m()\u001b[0m\n\u001b[0;32m----> 1\u001b[0;31m \u001b[0;32mfrom\u001b[0m \u001b[0mlinkedListFIFO\u001b[0m \u001b[0;32mimport\u001b[0m \u001b[0mLinkedListFIFO\u001b[0m\u001b[0;34m\u001b[0m\u001b[0m\n\u001b[0m",
      "\u001b[0;31mModuleNotFoundError\u001b[0m: No module named 'linkedListFIFO'"
     ]
    }
   ],
   "source": [
    "from linkedListFIFO import LinkedListFIFO # 구현해야함"
   ]
  },
  {
   "cell_type": "code",
   "execution_count": null,
   "metadata": {
    "collapsed": true
   },
   "outputs": [],
   "source": []
  }
 ],
 "metadata": {
  "kernelspec": {
   "display_name": "dl_py3",
   "language": "python",
   "name": "dl_py3"
  },
  "language_info": {
   "codemirror_mode": {
    "name": "ipython",
    "version": 3
   },
   "file_extension": ".py",
   "mimetype": "text/x-python",
   "name": "python",
   "nbconvert_exporter": "python",
   "pygments_lexer": "ipython3",
   "version": "3.6.5"
  }
 },
 "nbformat": 4,
 "nbformat_minor": 2
}
