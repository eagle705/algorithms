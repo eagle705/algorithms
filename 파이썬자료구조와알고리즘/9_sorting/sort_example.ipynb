{
 "cells": [
  {
   "cell_type": "markdown",
   "metadata": {
    "ExecuteTime": {
     "end_time": "2019-10-04T02:40:09.055215Z",
     "start_time": "2019-10-04T02:40:09.045616Z"
    },
    "collapsed": true
   },
   "source": [
    "# Bubble sort\n",
    "\n",
    "- keypoint:\n",
    "    - front와 end index가 0, 1에서부터 시작한다는게 제일 중요함~!\n",
    "    - assert code로 테스트하는게 앞으로 코테 준비할 때 매우 중요할듯\n",
    "    - 뒤에부터 정렬됨\n",
    "- 특징:\n",
    "    - O(n^2)\n",
    "\n",
    "<img src=\"./assets/bubble_sort.jpeg\"  style=\"height:600px\">"
   ]
  },
  {
   "cell_type": "code",
   "execution_count": 99,
   "metadata": {
    "ExecuteTime": {
     "end_time": "2019-10-04T05:01:47.358055Z",
     "start_time": "2019-10-04T05:01:47.352127Z"
    }
   },
   "outputs": [],
   "source": [
    "def bubble_sort(list_of_num, reverse=False):\n",
    "    len_of_list = len(list_of_num)\n",
    "    for i in range(len_of_list-1):\n",
    "        print(\"{}-iteration, list_of_num: {}\".format(i, list_of_num))\n",
    "        for j in range(len_of_list-i-1):\n",
    "            front = j # key point\n",
    "            end = j+1 # key point\n",
    "\n",
    "            if list_of_num[front] < list_of_num[end] and reverse is False: # 오름 차순\n",
    "                continue\n",
    "            elif list_of_num[front] > list_of_num[end] and reverse is True: # 내림 차순\n",
    "                continue\n",
    "            else:\n",
    "                # 동시 할당으로 처리\n",
    "                list_of_num[front], list_of_num[end] = list_of_num[end], list_of_num[front]\n",
    "    return list_of_num"
   ]
  },
  {
   "cell_type": "code",
   "execution_count": 100,
   "metadata": {
    "ExecuteTime": {
     "end_time": "2019-10-04T05:01:47.591341Z",
     "start_time": "2019-10-04T05:01:47.582908Z"
    }
   },
   "outputs": [
    {
     "name": "stdout",
     "output_type": "stream",
     "text": [
      "0-iteration, list_of_num: [11, 3, 28, 43, 9, 4]\n",
      "1-iteration, list_of_num: [3, 11, 28, 9, 4, 43]\n",
      "2-iteration, list_of_num: [3, 11, 9, 4, 28, 43]\n",
      "3-iteration, list_of_num: [3, 9, 4, 11, 28, 43]\n",
      "4-iteration, list_of_num: [3, 4, 9, 11, 28, 43]\n"
     ]
    },
    {
     "data": {
      "text/plain": [
       "[3, 4, 9, 11, 28, 43]"
      ]
     },
     "execution_count": 100,
     "metadata": {},
     "output_type": "execute_result"
    }
   ],
   "source": [
    "test_case = [11, 3, 28, 43, 9, 4]\n",
    "bubble_sort(test_case, reverse=False)"
   ]
  },
  {
   "cell_type": "code",
   "execution_count": 101,
   "metadata": {
    "ExecuteTime": {
     "end_time": "2019-10-04T05:01:47.803950Z",
     "start_time": "2019-10-04T05:01:47.801045Z"
    }
   },
   "outputs": [],
   "source": [
    "def test_bubble_sort():\n",
    "    seq = [4,5,2,1,2,5,14,4]\n",
    "    assert(bubble_sort(seq) == sorted(seq))"
   ]
  },
  {
   "cell_type": "code",
   "execution_count": 102,
   "metadata": {
    "ExecuteTime": {
     "end_time": "2019-10-04T05:01:48.028385Z",
     "start_time": "2019-10-04T05:01:48.023254Z"
    }
   },
   "outputs": [
    {
     "name": "stdout",
     "output_type": "stream",
     "text": [
      "0-iteration, list_of_num: [4, 5, 2, 1, 2, 5, 14, 4]\n",
      "1-iteration, list_of_num: [4, 2, 1, 2, 5, 5, 4, 14]\n",
      "2-iteration, list_of_num: [2, 1, 2, 4, 5, 4, 5, 14]\n",
      "3-iteration, list_of_num: [1, 2, 2, 4, 4, 5, 5, 14]\n",
      "4-iteration, list_of_num: [1, 2, 2, 4, 4, 5, 5, 14]\n",
      "5-iteration, list_of_num: [1, 2, 2, 4, 4, 5, 5, 14]\n",
      "6-iteration, list_of_num: [1, 2, 2, 4, 4, 5, 5, 14]\n"
     ]
    }
   ],
   "source": [
    "test_bubble_sort()"
   ]
  },
  {
   "cell_type": "markdown",
   "metadata": {},
   "source": [
    "# Selection sort\n",
    "\n",
    "- keypoint:\n",
    "    - 가장 큰 값 혹은 작은값을 뽑아서 정렬\n",
    "    - fron와 end가 한개씩 이동해서 시작함\n",
    "    - 앞부터 정렬됨\n",
    "    - Range를 써서 푸는게 맘편함(i, j의 시작과 끝을 정할 수 있어서)\n",
    "    - min_val와 min_index를 저장해가면서 했는데, min_val의 경우 공간도 더 차지하고 리스크가 있음. min_index만 사용할 것\n",
    "- 특징:\n",
    "    - O(n^2)\n",
    "    - unstable (동일 원소끼리도 순서가 바뀜)\n",
    "\n",
    "<img src=\"./assets/selection_sort.jpeg\"  style=\"height:600px\">\n",
    "\n",
    "![selection_sort](https://upload.wikimedia.org/wikipedia/commons/9/94/Selection-Sort-Animation.gif)"
   ]
  },
  {
   "cell_type": "code",
   "execution_count": 104,
   "metadata": {
    "ExecuteTime": {
     "end_time": "2019-10-04T05:01:48.678054Z",
     "start_time": "2019-10-04T05:01:48.672108Z"
    }
   },
   "outputs": [],
   "source": [
    "def selection_sort(list_of_num):\n",
    "    length = len(list_of_num)\n",
    "    for i in range(0, length-1):\n",
    "        print(\"{}-iteration, list_of_num: {}\".format(i, list_of_num))\n",
    "        min_index = i\n",
    "        for j in range(i+1, length):\n",
    "            if list_of_num[j] < list_of_num[min_index]:\n",
    "                min_index = j\n",
    "        list_of_num[i], list_of_num[min_index] = list_of_num[min_index], list_of_num[i]\n",
    "    return list_of_num\n",
    "                \n"
   ]
  },
  {
   "cell_type": "code",
   "execution_count": 105,
   "metadata": {
    "ExecuteTime": {
     "end_time": "2019-10-04T05:01:48.914648Z",
     "start_time": "2019-10-04T05:01:48.904115Z"
    }
   },
   "outputs": [
    {
     "name": "stdout",
     "output_type": "stream",
     "text": [
      "0-iteration, list_of_num: [11, 3, 28, 43, 9, 4]\n",
      "1-iteration, list_of_num: [3, 11, 28, 43, 9, 4]\n",
      "2-iteration, list_of_num: [3, 4, 28, 43, 9, 11]\n",
      "3-iteration, list_of_num: [3, 4, 9, 43, 28, 11]\n",
      "4-iteration, list_of_num: [3, 4, 9, 11, 28, 43]\n"
     ]
    },
    {
     "data": {
      "text/plain": [
       "[3, 4, 9, 11, 28, 43]"
      ]
     },
     "execution_count": 105,
     "metadata": {},
     "output_type": "execute_result"
    }
   ],
   "source": [
    "test_case = [11, 3, 28, 43, 9, 4]\n",
    "selection_sort(test_case)"
   ]
  },
  {
   "cell_type": "code",
   "execution_count": 106,
   "metadata": {
    "ExecuteTime": {
     "end_time": "2019-10-04T05:01:49.142891Z",
     "start_time": "2019-10-04T05:01:49.136320Z"
    }
   },
   "outputs": [
    {
     "name": "stdout",
     "output_type": "stream",
     "text": [
      "0-iteration, list_of_num: [11, 3, 28, 43, 9, 4]\n",
      "1-iteration, list_of_num: [3, 11, 28, 43, 9, 4]\n",
      "2-iteration, list_of_num: [3, 4, 28, 43, 9, 11]\n",
      "3-iteration, list_of_num: [3, 4, 9, 43, 28, 11]\n",
      "4-iteration, list_of_num: [3, 4, 9, 11, 28, 43]\n",
      "통과\n"
     ]
    }
   ],
   "source": [
    "def test_selection_sort():\n",
    "    seq = [11, 3, 28, 43, 9, 4]\n",
    "    assert(selection_sort(seq) == sorted(seq))\n",
    "    print(\"통과\")\n",
    "    \n",
    "test_selection_sort()"
   ]
  },
  {
   "cell_type": "markdown",
   "metadata": {},
   "source": [
    "# Insertion sort\n",
    "\n",
    "- keypoint:\n",
    "    - 이미 정렬되어있으면 O(n)에 바로 끝남\n",
    "    - 삽입이라서 뒤에서 바로 앞으로 이동시키고 한칸씩 뒤로 밀어버릴것 같지만, 실상은 뒤에서부터 버블 sort처럼 정렬\n",
    "    - 조건과 반복을 동시에 처리할 수 있는 while문으로 코딩함\n",
    "- 특징:\n",
    "    - Best: O(n) / Avg, Worst: O(n^2)\n",
    "\n",
    "<img src=\"./assets/insertion_sort.jpeg\"  style=\"height:600px\">"
   ]
  },
  {
   "cell_type": "code",
   "execution_count": 129,
   "metadata": {
    "ExecuteTime": {
     "end_time": "2019-10-04T06:12:12.246962Z",
     "start_time": "2019-10-04T06:12:12.242378Z"
    }
   },
   "outputs": [],
   "source": [
    "def insertion_sort(seq):\n",
    "    length = len(seq)\n",
    "    print(\"{}-iteration, list_of_num: {}\".format(0, seq))\n",
    "    for i in range(1, length):\n",
    "        j = i # 뒤에서부터 비교\n",
    "        while(j > 0 and seq[j] < seq[j-1]):\n",
    "            seq[j-1], seq[j] = seq[j], seq[j-1]\n",
    "            j -= 1\n",
    "        print(\"{}-iteration, list_of_num: {}\".format(i, seq))\n",
    "    return seq         "
   ]
  },
  {
   "cell_type": "code",
   "execution_count": 130,
   "metadata": {
    "ExecuteTime": {
     "end_time": "2019-10-04T06:12:12.500173Z",
     "start_time": "2019-10-04T06:12:12.493956Z"
    }
   },
   "outputs": [
    {
     "name": "stdout",
     "output_type": "stream",
     "text": [
      "0-iteration, list_of_num: [11, 3, 28, 43, 9, 4]\n",
      "1-iteration, list_of_num: [3, 11, 28, 43, 9, 4]\n",
      "2-iteration, list_of_num: [3, 11, 28, 43, 9, 4]\n",
      "3-iteration, list_of_num: [3, 11, 28, 43, 9, 4]\n",
      "4-iteration, list_of_num: [3, 9, 11, 28, 43, 4]\n",
      "5-iteration, list_of_num: [3, 4, 9, 11, 28, 43]\n"
     ]
    },
    {
     "data": {
      "text/plain": [
       "[3, 4, 9, 11, 28, 43]"
      ]
     },
     "execution_count": 130,
     "metadata": {},
     "output_type": "execute_result"
    }
   ],
   "source": [
    "test_case = [11, 3, 28, 43, 9, 4]\n",
    "insertion_sort(test_case)"
   ]
  },
  {
   "cell_type": "markdown",
   "metadata": {
    "ExecuteTime": {
     "end_time": "2019-10-04T08:10:19.335092Z",
     "start_time": "2019-10-04T08:10:19.302341Z"
    }
   },
   "source": [
    "# gnome sort\n",
    "\n",
    "- keypoint:\n",
    "    - 이미 정렬되어있으면 O(n)에 바로 끝남\n",
    "    - 다 바꾸는게 아니라 조건에 맞는애만 바꿔줌\n",
    "    - 처음엔 한번만 쭉 훑으면 되는줄 알았는데 그게 아녔음\n",
    "    - index가 앞으로 갔다가 또 뒤로 쭉 갔다가 조건맞으면 다시 앞으로 갔다가 또 뒤로 쭉 갔다가 왔다갔다함\n",
    "- 특징:\n",
    "    - Best: O(n) / Avg, Worst: O(n^2)\n",
    "![gnome_sort](https://upload.wikimedia.org/wikipedia/commons/3/37/Sorting_gnomesort_anim.gif)"
   ]
  },
  {
   "cell_type": "code",
   "execution_count": 138,
   "metadata": {
    "ExecuteTime": {
     "end_time": "2019-10-04T08:16:06.347903Z",
     "start_time": "2019-10-04T08:16:06.343154Z"
    }
   },
   "outputs": [],
   "source": [
    "def gnome_sort(seq):\n",
    "    i = 0\n",
    "    while(i < len(seq)):\n",
    "        if i == 0 or seq[i-1] < seq[i]:\n",
    "            i += 1 # 조건 맞으면 앞으로\n",
    "        else:\n",
    "            seq[i], seq[i-1] = seq[i-1], seq[i]\n",
    "            i -= 1 # 조건 안맞으면 뒤로가면서 다시 다 체크~\n",
    "    return seq"
   ]
  },
  {
   "cell_type": "code",
   "execution_count": 139,
   "metadata": {
    "ExecuteTime": {
     "end_time": "2019-10-04T08:16:06.688395Z",
     "start_time": "2019-10-04T08:16:06.683587Z"
    }
   },
   "outputs": [
    {
     "data": {
      "text/plain": [
       "[3, 4, 9, 11, 28, 43]"
      ]
     },
     "execution_count": 139,
     "metadata": {},
     "output_type": "execute_result"
    }
   ],
   "source": [
    "test_case = [11, 3, 28, 43, 9, 4]\n",
    "gnome_sort(test_case)"
   ]
  },
  {
   "cell_type": "markdown",
   "metadata": {},
   "source": [
    "# Count sort\n",
    "\n",
    "- keypoint:\n",
    "    - 숫자를 담을 추가 메모리 공간이 필요함\n",
    "    - key, value로 숫자를 리스트로 담아 놓은 다음에 dict에서 min, max를 (여기서 또 시간 듬) 구하고\n",
    "    - min, max 에 맞게 정렬된 숫자에 대해서 dict에 있으면 꺼내서 list에 extend로 추가하는 형태로 리턴\n",
    "    - defaultdict이라는 api로 key 값이 없을때 default로 빈 리스트([])가 들어와서 extend에 효과가 없게 함으로써 편하게 구현한걸로 보임\n",
    "- 특징:\n",
    "    - 작은 범위의 정수를 정렬할 때 유용함\n",
    "    - 숫자의 발생 횟수를 계산하는 누적 카운트 사용\n",
    "    - 숫자 간 간격이 크면 로그 선형제한이 걸려서 비효율적으로 됨\n",
    "    - 시간복잡도 O(n+k)\n",
    "\n",
    "------------"
   ]
  },
  {
   "cell_type": "markdown",
   "metadata": {},
   "source": [
    "defaultdict()는 인자로 주어진 객체(default-factory)의 기본값을 딕셔너리값의 초깃값으로 지정할 수 있다.\n",
    "숫자, 리스트, 셋등으로 초기화 할 수 있기때문에 여러 용도로 사용할 수 있다.\n",
    "기본적인 작동방식을 살펴보면\n",
    "\n",
    "```python\n",
    ">>> from collections import defaultdict    # 외부함수이기 때문에 import 해야한다.\n",
    ">>> int_dict = defaultdict(int)\n",
    ">>> int_dict\n",
    "defaultdict(<class 'int'>, {})                     # 디폴트값이 int인 딕셔너리\n",
    "```\n",
    "\n",
    "위와 같이 설정을 하면 값을 지정하지 않은 키는 그 값이 0으로 지정된다.\n",
    "\n",
    "```python\n",
    ">>> int_dict['key1']\n",
    "0\n",
    ">>> int_dict\n",
    "defaultdict(<class 'int'>, {'key1': 0}) \n",
    "```\n",
    "\n",
    "키에 명시적으로 값을 지정하게 되면 그 값이 지정된다.\n",
    "\n",
    "```python\n",
    ">>> int_dict['key2'] = 'test'\n",
    ">>> int_dict\n",
    "defaultdict(<class 'int'>, {'key1': 0, 'key2': 'test'}) \n",
    "```\n",
    "\n",
    "defaultdict라는 말 그대로 처음 키를 지정할 때 값을 주지 않으면 해당 키에 대한 값을 디폴트 값을 지정하겠다는 뜻이다.\n",
    "\n",
    "\n",
    "출처: https://dongdongfather.tistory.com/69 [파이 키우기]\n",
    "\n",
    "-----------"
   ]
  },
  {
   "cell_type": "code",
   "execution_count": 25,
   "metadata": {
    "ExecuteTime": {
     "end_time": "2019-10-04T12:53:05.535183Z",
     "start_time": "2019-10-04T12:53:05.529943Z"
    }
   },
   "outputs": [],
   "source": [
    "from collections import defaultdict # 초기화 안해줘도 되서 매우 편한듯\n",
    "\n",
    "def count_sort_dict(seq):\n",
    "    res, num_to_list_of_nums = [], defaultdict(list)\n",
    "    for x in seq:\n",
    "        num_to_list_of_nums[x].append(x)\n",
    "    min_num_from_key = min(num_to_list_of_nums)\n",
    "    max_num_from_key = max(num_to_list_of_nums)\n",
    "    \n",
    "    for num in range(min_num_from_key, max_num_from_key+1):\n",
    "        res.extend(num_to_list_of_nums[num])\n",
    "    return res"
   ]
  },
  {
   "cell_type": "code",
   "execution_count": 38,
   "metadata": {
    "ExecuteTime": {
     "end_time": "2019-10-04T12:55:09.238837Z",
     "start_time": "2019-10-04T12:55:09.235070Z"
    }
   },
   "outputs": [],
   "source": [
    "test_case = [11, 3, 28, 43, 9, 4]\n",
    "count_sort_dict(test_case)\n",
    "assert count_sort_dict(test_case) == sorted(test_case), 'Test Fail'"
   ]
  },
  {
   "cell_type": "code",
   "execution_count": null,
   "metadata": {},
   "outputs": [],
   "source": []
  }
 ],
 "metadata": {
  "kernelspec": {
   "display_name": "dl_py3",
   "language": "python",
   "name": "dl_py3"
  },
  "language_info": {
   "codemirror_mode": {
    "name": "ipython",
    "version": 3
   },
   "file_extension": ".py",
   "mimetype": "text/x-python",
   "name": "python",
   "nbconvert_exporter": "python",
   "pygments_lexer": "ipython3",
   "version": "3.6.5"
  }
 },
 "nbformat": 4,
 "nbformat_minor": 1
}
