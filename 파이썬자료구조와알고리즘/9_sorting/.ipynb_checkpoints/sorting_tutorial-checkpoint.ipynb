{
 "cells": [
  {
   "cell_type": "markdown",
   "metadata": {
    "ExecuteTime": {
     "end_time": "2019-10-04T02:40:09.055215Z",
     "start_time": "2019-10-04T02:40:09.045616Z"
    },
    "collapsed": true
   },
   "source": [
    "# Bubble sort\n",
    "\n",
    "- keypoint:\n",
    "    - front와 end index가 0, 1에서부터 시작한다는게 제일 중요함~!\n",
    "    - assert code로 테스트하는게 앞으로 코테 준비할 때 매우 중요할듯\n",
    "    - 뒤에부터 정렬됨\n",
    "- 특징:\n",
    "    - best: O(n) // https://www.quora.com/Why-does-bubble-sort-have-O-n-time-complexity-in-the-best-case-performance\n",
    "    - avg, worst: O(n^2)\n",
    "    - if 문은 time complexity에 안들어감..!\n",
    "\n",
    "<img src=\"./assets/bubble_sort.jpeg\" style=\"height:600px\"> \n"
   ]
  },
  {
   "cell_type": "code",
   "execution_count": 1,
   "metadata": {
    "ExecuteTime": {
     "end_time": "2019-10-08T02:12:14.806946Z",
     "start_time": "2019-10-08T02:12:14.801811Z"
    },
    "collapsed": true
   },
   "outputs": [],
   "source": [
    "def bubble_sort(seq, reverse=False):\n",
    "    length = len(seq)\n",
    "    for i in range(length-1):\n",
    "        print(\"{}-iteration, list_of_num: {}\".format(i, seq))\n",
    "        for j in range(length-i-1):\n",
    "            front = j # key point\n",
    "            end = j+1 # key point\n",
    "\n",
    "            if seq[front] < seq[end] and reverse is False: # 오름 차순\n",
    "                continue\n",
    "            elif seq[front] > seq[end] and reverse is True: # 내림 차순\n",
    "                continue\n",
    "            else:\n",
    "                # 동시 할당으로 처리\n",
    "                seq[front], seq[end] = seq[end], seq[front]\n",
    "    return seq"
   ]
  },
  {
   "cell_type": "code",
   "execution_count": 2,
   "metadata": {
    "ExecuteTime": {
     "end_time": "2019-10-08T02:12:14.990084Z",
     "start_time": "2019-10-08T02:12:14.971153Z"
    }
   },
   "outputs": [
    {
     "name": "stdout",
     "output_type": "stream",
     "text": [
      "0-iteration, list_of_num: [11, 3, 28, 43, 9, 4]\n",
      "1-iteration, list_of_num: [3, 11, 28, 9, 4, 43]\n",
      "2-iteration, list_of_num: [3, 11, 9, 4, 28, 43]\n",
      "3-iteration, list_of_num: [3, 9, 4, 11, 28, 43]\n",
      "4-iteration, list_of_num: [3, 4, 9, 11, 28, 43]\n"
     ]
    },
    {
     "data": {
      "text/plain": [
       "[3, 4, 9, 11, 28, 43]"
      ]
     },
     "execution_count": 2,
     "metadata": {},
     "output_type": "execute_result"
    }
   ],
   "source": [
    "test_case = [11, 3, 28, 43, 9, 4]\n",
    "bubble_sort(test_case, reverse=False)"
   ]
  },
  {
   "cell_type": "code",
   "execution_count": 3,
   "metadata": {
    "ExecuteTime": {
     "end_time": "2019-10-08T02:12:18.267201Z",
     "start_time": "2019-10-08T02:12:18.260182Z"
    },
    "collapsed": true
   },
   "outputs": [],
   "source": [
    "def test_bubble_sort():\n",
    "    seq = [4,5,2,1,2,5,14,4]\n",
    "    assert(bubble_sort(seq) == sorted(seq))"
   ]
  },
  {
   "cell_type": "code",
   "execution_count": 4,
   "metadata": {
    "ExecuteTime": {
     "end_time": "2019-10-08T02:12:21.396630Z",
     "start_time": "2019-10-08T02:12:21.390319Z"
    }
   },
   "outputs": [
    {
     "name": "stdout",
     "output_type": "stream",
     "text": [
      "0-iteration, list_of_num: [4, 5, 2, 1, 2, 5, 14, 4]\n",
      "1-iteration, list_of_num: [4, 2, 1, 2, 5, 5, 4, 14]\n",
      "2-iteration, list_of_num: [2, 1, 2, 4, 5, 4, 5, 14]\n",
      "3-iteration, list_of_num: [1, 2, 2, 4, 4, 5, 5, 14]\n",
      "4-iteration, list_of_num: [1, 2, 2, 4, 4, 5, 5, 14]\n",
      "5-iteration, list_of_num: [1, 2, 2, 4, 4, 5, 5, 14]\n",
      "6-iteration, list_of_num: [1, 2, 2, 4, 4, 5, 5, 14]\n"
     ]
    }
   ],
   "source": [
    "test_bubble_sort()"
   ]
  },
  {
   "cell_type": "markdown",
   "metadata": {},
   "source": [
    "# Selection sort\n",
    "\n",
    "- keypoint:\n",
    "    - 가장 큰 값 혹은 작은값을 뽑아서 정렬\n",
    "    - fron와 end가 한개씩 이동해서 시작함\n",
    "    - 앞부터 정렬됨\n",
    "    - Range를 써서 푸는게 맘편함(i, j의 시작과 끝을 정할 수 있어서)\n",
    "    - min_val와 min_index를 저장해가면서 했는데, min_val의 경우 공간도 더 차지하고 리스크가 있음. min_index만 사용할 것\n",
    "- 특징:\n",
    "    - best, avg, worst: O(n^2) // best(정렬된)의 경우에도 min index가 자기면 자기에게 inner loop에서 대입해서 O(n^2)임\n",
    "    - unstable (동일 원소끼리도 순서가 바뀜)\n",
    "\n",
    "<img src=\"./assets/selection_sort.jpeg\"  style=\"height:600px\">\n",
    "\n",
    "![selection_sort](https://upload.wikimedia.org/wikipedia/commons/9/94/Selection-Sort-Animation.gif)"
   ]
  },
  {
   "cell_type": "code",
   "execution_count": 5,
   "metadata": {
    "ExecuteTime": {
     "end_time": "2019-10-08T02:12:41.282537Z",
     "start_time": "2019-10-08T02:12:41.277211Z"
    },
    "collapsed": true
   },
   "outputs": [],
   "source": [
    "def selection_sort(seq):\n",
    "    length = len(seq)\n",
    "    for i in range(0, length-1):\n",
    "        print(\"{}-iteration, list_of_num: {}\".format(i, seq))\n",
    "        min_index = i\n",
    "        for j in range(i+1, length):\n",
    "            if seq[j] < seq[min_index]:\n",
    "                min_index = j\n",
    "        seq[i], seq[min_index] = seq[min_index], seq[i]\n",
    "    return seq        "
   ]
  },
  {
   "cell_type": "code",
   "execution_count": 6,
   "metadata": {
    "ExecuteTime": {
     "end_time": "2019-10-08T02:12:41.575932Z",
     "start_time": "2019-10-08T02:12:41.567640Z"
    }
   },
   "outputs": [
    {
     "name": "stdout",
     "output_type": "stream",
     "text": [
      "0-iteration, list_of_num: [11, 3, 28, 43, 9, 4]\n",
      "1-iteration, list_of_num: [3, 11, 28, 43, 9, 4]\n",
      "2-iteration, list_of_num: [3, 4, 28, 43, 9, 11]\n",
      "3-iteration, list_of_num: [3, 4, 9, 43, 28, 11]\n",
      "4-iteration, list_of_num: [3, 4, 9, 11, 28, 43]\n"
     ]
    },
    {
     "data": {
      "text/plain": [
       "[3, 4, 9, 11, 28, 43]"
      ]
     },
     "execution_count": 6,
     "metadata": {},
     "output_type": "execute_result"
    }
   ],
   "source": [
    "test_case = [11, 3, 28, 43, 9, 4]\n",
    "selection_sort(test_case)"
   ]
  },
  {
   "cell_type": "code",
   "execution_count": 7,
   "metadata": {
    "ExecuteTime": {
     "end_time": "2019-10-08T02:12:42.357541Z",
     "start_time": "2019-10-08T02:12:42.352582Z"
    }
   },
   "outputs": [
    {
     "name": "stdout",
     "output_type": "stream",
     "text": [
      "0-iteration, list_of_num: [11, 3, 28, 43, 9, 4]\n",
      "1-iteration, list_of_num: [3, 11, 28, 43, 9, 4]\n",
      "2-iteration, list_of_num: [3, 4, 28, 43, 9, 11]\n",
      "3-iteration, list_of_num: [3, 4, 9, 43, 28, 11]\n",
      "4-iteration, list_of_num: [3, 4, 9, 11, 28, 43]\n",
      "통과\n"
     ]
    }
   ],
   "source": [
    "def test_selection_sort():\n",
    "    seq = [11, 3, 28, 43, 9, 4]\n",
    "    assert(selection_sort(seq) == sorted(seq))\n",
    "    print(\"통과\")\n",
    "    \n",
    "test_selection_sort()"
   ]
  },
  {
   "cell_type": "markdown",
   "metadata": {},
   "source": [
    "# Insertion sort\n",
    "\n",
    "- keypoint:\n",
    "    - 이미 정렬되어있으면 O(n)에 바로 끝남\n",
    "    - 삽입이라서 뒤에서 바로 앞으로 이동시키고 한칸씩 뒤로 밀어버릴것 같지만, 실상은 뒤에서부터 버블 sort처럼 정렬\n",
    "    - 조건과 반복을 동시에 처리할 수 있는 while문으로 코딩함\n",
    "- 특징:\n",
    "    - Best: O(n) / Avg, Worst: O(n^2)\n",
    "\n",
    "<img src=\"./assets/insertion_sort.jpeg\"  style=\"height:600px\">"
   ]
  },
  {
   "cell_type": "code",
   "execution_count": 129,
   "metadata": {
    "ExecuteTime": {
     "end_time": "2019-10-04T06:12:12.246962Z",
     "start_time": "2019-10-04T06:12:12.242378Z"
    },
    "collapsed": true
   },
   "outputs": [],
   "source": [
    "def insertion_sort(seq):\n",
    "    length = len(seq)\n",
    "    print(\"{}-iteration, list_of_num: {}\".format(0, seq))\n",
    "    for i in range(1, length):\n",
    "        j = i # 뒤에서부터 비교\n",
    "        while(j > 0 and seq[j] < seq[j-1]):\n",
    "            seq[j-1], seq[j] = seq[j], seq[j-1]\n",
    "            j -= 1\n",
    "        print(\"{}-iteration, list_of_num: {}\".format(i, seq))\n",
    "    return seq         "
   ]
  },
  {
   "cell_type": "code",
   "execution_count": 130,
   "metadata": {
    "ExecuteTime": {
     "end_time": "2019-10-04T06:12:12.500173Z",
     "start_time": "2019-10-04T06:12:12.493956Z"
    }
   },
   "outputs": [
    {
     "name": "stdout",
     "output_type": "stream",
     "text": [
      "0-iteration, list_of_num: [11, 3, 28, 43, 9, 4]\n",
      "1-iteration, list_of_num: [3, 11, 28, 43, 9, 4]\n",
      "2-iteration, list_of_num: [3, 11, 28, 43, 9, 4]\n",
      "3-iteration, list_of_num: [3, 11, 28, 43, 9, 4]\n",
      "4-iteration, list_of_num: [3, 9, 11, 28, 43, 4]\n",
      "5-iteration, list_of_num: [3, 4, 9, 11, 28, 43]\n"
     ]
    },
    {
     "data": {
      "text/plain": [
       "[3, 4, 9, 11, 28, 43]"
      ]
     },
     "execution_count": 130,
     "metadata": {},
     "output_type": "execute_result"
    }
   ],
   "source": [
    "test_case = [11, 3, 28, 43, 9, 4]\n",
    "insertion_sort(test_case)"
   ]
  },
  {
   "cell_type": "markdown",
   "metadata": {
    "ExecuteTime": {
     "end_time": "2019-10-04T08:10:19.335092Z",
     "start_time": "2019-10-04T08:10:19.302341Z"
    }
   },
   "source": [
    "# gnome sort\n",
    "\n",
    "- keypoint:\n",
    "    - 이미 정렬되어있으면 O(n)에 바로 끝남\n",
    "    - 다 바꾸는게 아니라 조건에 맞는애만 바꿔줌\n",
    "    - 처음엔 한번만 쭉 훑으면 되는줄 알았는데 그게 아녔음\n",
    "    - index가 앞으로 갔다가 또 뒤로 쭉 갔다가 조건맞으면 다시 앞으로 갔다가 또 뒤로 쭉 갔다가 왔다갔다함\n",
    "- 특징:\n",
    "    - Best: O(n) / Avg, Worst: O(n^2)\n",
    "![gnome_sort](https://upload.wikimedia.org/wikipedia/commons/3/37/Sorting_gnomesort_anim.gif)"
   ]
  },
  {
   "cell_type": "code",
   "execution_count": 138,
   "metadata": {
    "ExecuteTime": {
     "end_time": "2019-10-04T08:16:06.347903Z",
     "start_time": "2019-10-04T08:16:06.343154Z"
    },
    "collapsed": true
   },
   "outputs": [],
   "source": [
    "def gnome_sort(seq):\n",
    "    i = 0\n",
    "    while(i < len(seq)):\n",
    "        if i == 0 or seq[i-1] < seq[i]:\n",
    "            i += 1 # 조건 맞으면 앞으로\n",
    "        else:\n",
    "            seq[i], seq[i-1] = seq[i-1], seq[i]\n",
    "            i -= 1 # 조건 안맞으면 뒤로가면서 다시 다 체크~\n",
    "    return seq"
   ]
  },
  {
   "cell_type": "code",
   "execution_count": 139,
   "metadata": {
    "ExecuteTime": {
     "end_time": "2019-10-04T08:16:06.688395Z",
     "start_time": "2019-10-04T08:16:06.683587Z"
    }
   },
   "outputs": [
    {
     "data": {
      "text/plain": [
       "[3, 4, 9, 11, 28, 43]"
      ]
     },
     "execution_count": 139,
     "metadata": {},
     "output_type": "execute_result"
    }
   ],
   "source": [
    "test_case = [11, 3, 28, 43, 9, 4]\n",
    "gnome_sort(test_case)"
   ]
  },
  {
   "cell_type": "markdown",
   "metadata": {},
   "source": [
    "# Count sort\n",
    "\n",
    "- keypoint:\n",
    "    - 숫자를 담을 추가 메모리 공간이 필요함\n",
    "    - key, value로 숫자를 리스트로 담아 놓은 다음에 dict에서 min, max를 (여기서 또 시간 듬) 구하고\n",
    "    - min, max 에 맞게 정렬된 숫자에 대해서 dict에 있으면 꺼내서 list에 extend로 추가하는 형태로 리턴\n",
    "    - defaultdict이라는 api로 key 값이 없을때 default로 빈 리스트([])가 들어와서 extend에 효과가 없게 함으로써 편하게 구현한걸로 보임\n",
    "- 특징:\n",
    "    - 작은 범위의 정수를 정렬할 때 유용함\n",
    "    - 숫자의 발생 횟수를 계산하는 누적 카운트 사용\n",
    "    - 숫자 간 간격이 크면 로그 선형제한이 걸려서 비효율적으로 됨\n",
    "    - 시간복잡도 O(n+k)\n",
    "\n",
    "------------"
   ]
  },
  {
   "cell_type": "markdown",
   "metadata": {},
   "source": [
    "#### defaultdict 설명\n",
    "\n",
    "- defaultdict()는 인자로 주어진 객체(default-factory)의 기본값을 딕셔너리값의 초깃값으로 지정할 수 있다.   \n",
    "- 숫자, 리스트, 셋등으로 초기화 할 수 있기때문에 여러 용도로 사용할 수 있다.\n",
    "- 기본적인 작동방식을 살펴보면\n",
    "\n",
    "```python\n",
    ">>> from collections import defaultdict    # 외부함수이기 때문에 import 해야한다.\n",
    ">>> int_dict = defaultdict(int)\n",
    ">>> int_dict\n",
    "defaultdict(<class 'int'>, {})                     # 디폴트값이 int인 딕셔너리\n",
    "```\n",
    "\n",
    "위와 같이 설정을 하면 값을 지정하지 않은 키는 그 값이 0으로 지정된다.\n",
    "\n",
    "```python\n",
    ">>> int_dict['key1']\n",
    "0\n",
    ">>> int_dict\n",
    "defaultdict(<class 'int'>, {'key1': 0}) \n",
    "```\n",
    "\n",
    "키에 명시적으로 값을 지정하게 되면 그 값이 지정된다.\n",
    "\n",
    "```python\n",
    ">>> int_dict['key2'] = 'test'\n",
    ">>> int_dict\n",
    "defaultdict(<class 'int'>, {'key1': 0, 'key2': 'test'}) \n",
    "```\n",
    "\n",
    "defaultdict라는 말 그대로 처음 키를 지정할 때 값을 주지 않으면 해당 키에 대한 값을 디폴트 값을 지정하겠다는 뜻이다.\n",
    "\n",
    "\n",
    "출처: https://dongdongfather.tistory.com/69 \n",
    "\n",
    "-----------"
   ]
  },
  {
   "cell_type": "code",
   "execution_count": 8,
   "metadata": {
    "ExecuteTime": {
     "end_time": "2019-10-08T02:13:27.036015Z",
     "start_time": "2019-10-08T02:13:27.031211Z"
    },
    "collapsed": true
   },
   "outputs": [],
   "source": [
    "from collections import defaultdict # 초기화 안해줘도 되서 매우 편한듯\n",
    "\n",
    "def count_sort_dict(seq):\n",
    "    res, num_to_list_of_nums = [], defaultdict(list)\n",
    "    for x in seq:\n",
    "        num_to_list_of_nums[x].append(x)\n",
    "    min_num_from_key = min(num_to_list_of_nums)\n",
    "    max_num_from_key = max(num_to_list_of_nums)\n",
    "    \n",
    "    for num in range(min_num_from_key, max_num_from_key+1):\n",
    "        res.extend(num_to_list_of_nums[num])\n",
    "    return res"
   ]
  },
  {
   "cell_type": "code",
   "execution_count": 21,
   "metadata": {
    "ExecuteTime": {
     "end_time": "2019-10-08T02:14:26.483033Z",
     "start_time": "2019-10-08T02:14:26.480022Z"
    },
    "collapsed": true
   },
   "outputs": [],
   "source": [
    "test_case = [11, 3, 28, 43, 9, 4]\n",
    "assert count_sort_dict(test_case) == sorted(test_case), 'Test Fail'"
   ]
  },
  {
   "cell_type": "markdown",
   "metadata": {},
   "source": [
    "# Merge ort\n",
    "\n",
    "- keypoint:\n",
    "    - 1개가 남을때까지 쪼갠 후 서로 비교 후(divide) 새로운 리스트에 담음(병합)\n",
    "    - 새로운 리스트는 정렬된 상태이기 때문에 거기서 제일 작은것끼리 서로 비교후 또 새로운 리스트에 담으면 또 정렬된 리스트가 됨, 남는건 concat\n",
    "    - 둘중 하나가 남아있을떄 loop 도는 제어문과 남은 list에 대해서 concat하는 것, 오름차순을 유지해주는 것등이 키포인트임\n",
    "    - pop()으로 구현하면 꺼내기 편해서 좋음 (오름차순에서 뒤에있는거 꺼내는거라 큰게 나오는데.. 큰걸로 정렬하고 reverse~)\n",
    "- 특징:\n",
    "    - 안정적일뿐 아니라 대규모 데이터에 대해서도 속도가 빠름\n",
    "    - 공간이 따로 필요하므로 in-place는 아님\n",
    "    - 공간복잡도는 보통 O(n)이고 linked list의 경우에는 별도의 저장공간이 필요하지 않아서 in-place 가능하고 공간복잡도 O(logn)이 된다\n",
    "- 시간복잡도:\n",
    "    - 모두 O(nlogn)\n",
    "![mergesort](https://upload.wikimedia.org/wikipedia/commons/c/cc/Merge-sort-example-300px.gif)"
   ]
  },
  {
   "cell_type": "code",
   "execution_count": 10,
   "metadata": {
    "ExecuteTime": {
     "end_time": "2019-10-08T02:13:33.877588Z",
     "start_time": "2019-10-08T02:13:33.872216Z"
    },
    "collapsed": true
   },
   "outputs": [],
   "source": [
    "def merge_sort(seq):\n",
    "    # pop()을 이용한 정렬\n",
    "    if len(seq) < 2:\n",
    "        return seq\n",
    "    \n",
    "    # ex: seq==[0,1,2,3],   4//2 -> index: 2  0,1  / 2(mid),3 \n",
    "    # ex: seq==[0,1,2,3,4],   5//2 -> index: 2  0,1  / 2(mid),3, 4 \n",
    "    \n",
    "    # divide\n",
    "    # 아직 쪼갤게 남은 경우, mid 구해서 또 쪼갠다\n",
    "    mid = len(seq) // 2 \n",
    "    left, right = seq[:mid], seq[mid:]\n",
    "    \n",
    "    # 둘중 하나는 더 길이가 길 수도 있음\n",
    "    # 오름 차순으로 정렬된 애가 나옴\n",
    "    left = merge_sort(left)\n",
    "    right = merge_sort(right)\n",
    "    \n",
    "    # conquer\n",
    "    tmp_seq = []\n",
    "    while left and right:        \n",
    "        # 보통 정렬을 오름 차순으로 하니 뒤에 있는게 큰거라고 가정해보자\n",
    "        # 그럼 tmp_seq에는 작은것부터 넣어줘야한다로 하면 안된다 그 다음에 또 작은게 append되면 순서가 꼬이니까\n",
    "        # 그러므로 tmp_seq에 큰것부터 넣어줘서 내림차순으로 해준뒤 나중에 reverse로 오름차순 해준다\n",
    "        if left[-1] <= right[-1]:\n",
    "            tmp_seq.append(right.pop()) # 큰 것부터 넣는다\n",
    "        else:\n",
    "            tmp_seq.append(left.pop())\n",
    "        print(\"left: {}, right: {}, result: {}\".format(left, right, tmp_seq))\n",
    "\n",
    "    \n",
    "    tmp_seq.reverse() # 오름 차순으로 변경\n",
    "    print(\"reversed result: {}\".format(tmp_seq))\n",
    "    \n",
    "    # 남아 있는 left or right는 일단 tmp에 아직 못넣은 애들이니 작은 애들만 남아있음 그러므로 앞에 붙여야됨\n",
    "    # 둘중에 하나는 지금 다 떨어진 상태임 if list and list의 경우 둘다 값이 있어야만 루프 돌기 때문에\n",
    "    # list or list 의 경우엔 값이 있는 list가 튀어나오고 둘다 있을 경우 앞에 list가 튀어나옴\n",
    "    tmp_seq = (left or right) + tmp_seq\n",
    "    print(\"final result: {}\".format(tmp_seq))\n",
    "    return tmp_seq   "
   ]
  },
  {
   "cell_type": "code",
   "execution_count": 20,
   "metadata": {
    "ExecuteTime": {
     "end_time": "2019-10-08T02:14:14.679224Z",
     "start_time": "2019-10-08T02:14:14.674618Z"
    }
   },
   "outputs": [
    {
     "name": "stdout",
     "output_type": "stream",
     "text": [
      "left: [3], right: [], result: [28]\n",
      "reversed result: [28]\n",
      "final result: [3, 28]\n",
      "left: [11], right: [3], result: [28]\n",
      "left: [], right: [3], result: [28, 11]\n",
      "reversed result: [11, 28]\n",
      "final result: [3, 11, 28]\n",
      "left: [], right: [4], result: [9]\n",
      "reversed result: [9]\n",
      "final result: [4, 9]\n",
      "left: [], right: [4, 9], result: [43]\n",
      "reversed result: [43]\n",
      "final result: [4, 9, 43]\n",
      "left: [3, 11, 28], right: [4, 9], result: [43]\n",
      "left: [3, 11], right: [4, 9], result: [43, 28]\n",
      "left: [3], right: [4, 9], result: [43, 28, 11]\n",
      "left: [3], right: [4], result: [43, 28, 11, 9]\n",
      "left: [3], right: [], result: [43, 28, 11, 9, 4]\n",
      "reversed result: [4, 9, 11, 28, 43]\n",
      "final result: [3, 4, 9, 11, 28, 43]\n"
     ]
    }
   ],
   "source": [
    "test_case = [11, 3, 28, 43, 9, 4]\n",
    "assert merge_sort(test_case) == sorted(test_case), 'Test Fail'"
   ]
  },
  {
   "cell_type": "markdown",
   "metadata": {
    "ExecuteTime": {
     "end_time": "2019-10-07T04:30:37.518196Z",
     "start_time": "2019-10-07T04:30:37.492203Z"
    }
   },
   "source": [
    "# Quick sort\n",
    "\n",
    "- keypoint:\n",
    "    - pivot 선택이 젤 중요함 (보통은 mid로함)\n",
    "    - pivot 골라주되, pivot index도 갖고 있어서 자기자신과는 크기 비교하지 않게 한후 작은 그룹 큰 그룹으로 모아넣음\n",
    "    - 비교할때 왼쪽(작은쪽)에 크기 같은애 넣어주고\n",
    "    - 마지막엔 before, pivot, after 를 서로 concat해서 리턴해줌\n",
    "    - 의외로 파이썬 구현은 가장 쉽다.. 와우\n",
    "    - merge 처럼 다 쪼개고 합칠때 정렬이 아니라, 얘는 피벗으로 정렬하면서 쪼개고 걔네를 그 스텝에서 concat해주기 때문에 뭔가 직관적임\n",
    "    - 대신에 worst 케이스는 한쪽으로 다 몰려있을테니 더 느려지는거겠고..!\n",
    "    - cache 사용 안하는 quick sort는 피벗을 좌우 끝중 하나로 잡고 pivot기준으로 left, right index를 서로 만나도록 바꿔가면서 값을 swap해줌\n",
    "       \n",
    "- 특징:\n",
    "    - pivot 선택이 매우 중요함\n",
    "    - 은근 구현이 간단함, 정렬하면서, 자기자신은 index 저장해놓은걸로 피하면서, 왼쪽, 피벗, 오른쪽 리스트를 concat해서 구현\n",
    "- 시간복잡도:\n",
    "    - 최선, 평균: O(nlogn)\n",
    "    - 최악: O(n^2) (pivot이 최대값 혹은 최소값일때)\n",
    "![quick_sort](https://upload.wikimedia.org/wikipedia/commons/6/6a/Sorting_quicksort_anim.gif)"
   ]
  },
  {
   "cell_type": "code",
   "execution_count": 14,
   "metadata": {
    "ExecuteTime": {
     "end_time": "2019-10-08T02:13:56.079646Z",
     "start_time": "2019-10-08T02:13:56.074997Z"
    },
    "collapsed": true
   },
   "outputs": [],
   "source": [
    "def quick_sort_cache(seq):\n",
    "    if len(seq) < 2:\n",
    "        return seq\n",
    "    \n",
    "    pivot_idx = len(seq) // 2  # pivot 선택이 매우 중요하며 여기선 가운데를 선택\n",
    "    pivot = seq[pivot_idx]\n",
    "    before = [x for i, x in enumerate(seq) if i != pivot_idx and x <= pivot]\n",
    "    after = [x for i, x in enumerate(seq) if i != pivot_idx and pivot < x]\n",
    "    print(\"seq: {}, before: {}, pivot: {}, after: {}\".format(seq, before, [pivot], after))\n",
    "    \n",
    "    result = quick_sort_cache(before) + [pivot] + quick_sort_cache(after)   \n",
    "    print(\"result: {}\".format(result))\n",
    "    return result\n",
    "    "
   ]
  },
  {
   "cell_type": "code",
   "execution_count": 19,
   "metadata": {
    "ExecuteTime": {
     "end_time": "2019-10-08T02:14:10.193854Z",
     "start_time": "2019-10-08T02:14:10.187820Z"
    }
   },
   "outputs": [
    {
     "name": "stdout",
     "output_type": "stream",
     "text": [
      "seq: [11, 3, 28, 43, 9, 4], before: [11, 3, 28, 9, 4], pivot: [43], after: []\n",
      "seq: [11, 3, 28, 9, 4], before: [11, 3, 9, 4], pivot: [28], after: []\n",
      "seq: [11, 3, 9, 4], before: [3, 4], pivot: [9], after: [11]\n",
      "seq: [3, 4], before: [3], pivot: [4], after: []\n",
      "result: [3, 4]\n",
      "result: [3, 4, 9, 11]\n",
      "result: [3, 4, 9, 11, 28]\n",
      "result: [3, 4, 9, 11, 28, 43]\n"
     ]
    }
   ],
   "source": [
    "test_case = [11, 3, 28, 43, 9, 4]\n",
    "assert quick_sort_cache(test_case) == sorted(test_case), 'Test Fail'"
   ]
  },
  {
   "cell_type": "markdown",
   "metadata": {},
   "source": [
    "# Heap sort\n",
    "\n",
    "- keypoint:\n",
    "    - heapq api를 사용해라(?)\n",
    "       \n",
    "- 특징:\n",
    "    - heap 순서 확인 O(logn), n개 순회, 검색 -> O(nlogn)\n",
    "    - heap 삽입 O(1)\n",
    "- 시간복잡도:\n",
    "    - 최선, 평균, 최악: O(nlogn)\n",
    "![heap_sort](https://upload.wikimedia.org/wikipedia/commons/1/1b/Sorting_heapsort_anim.gif)"
   ]
  },
  {
   "cell_type": "code",
   "execution_count": 16,
   "metadata": {
    "ExecuteTime": {
     "end_time": "2019-10-08T02:14:02.251500Z",
     "start_time": "2019-10-08T02:14:02.246777Z"
    },
    "collapsed": true
   },
   "outputs": [],
   "source": [
    "import heapq\n",
    "def heap_sort(seq):\n",
    "    h = []\n",
    "    for val in seq:\n",
    "        heapq.heappush(h, val)\n",
    "        print(\"val: \", val)\n",
    "        print(\"h: \", h)\n",
    "    result = [heapq.heappop(h) for i in range(len(h))]\n",
    "    print(\"result: \", result)\n",
    "    return result\n"
   ]
  },
  {
   "cell_type": "code",
   "execution_count": 18,
   "metadata": {
    "ExecuteTime": {
     "end_time": "2019-10-08T02:14:05.251800Z",
     "start_time": "2019-10-08T02:14:05.245647Z"
    }
   },
   "outputs": [
    {
     "name": "stdout",
     "output_type": "stream",
     "text": [
      "val:  11\n",
      "h:  [11]\n",
      "val:  3\n",
      "h:  [3, 11]\n",
      "val:  28\n",
      "h:  [3, 11, 28]\n",
      "val:  43\n",
      "h:  [3, 11, 28, 43]\n",
      "val:  9\n",
      "h:  [3, 9, 28, 43, 11]\n",
      "val:  4\n",
      "h:  [3, 9, 4, 43, 11, 28]\n",
      "result:  [3, 4, 9, 11, 28, 43]\n"
     ]
    }
   ],
   "source": [
    "test_case = [11, 3, 28, 43, 9, 4]\n",
    "assert heap_sort(test_case) == sorted(test_case), 'Test Fail'"
   ]
  },
  {
   "cell_type": "code",
   "execution_count": null,
   "metadata": {
    "collapsed": true
   },
   "outputs": [],
   "source": []
  },
  {
   "cell_type": "code",
   "execution_count": null,
   "metadata": {
    "collapsed": true
   },
   "outputs": [],
   "source": []
  }
 ],
 "metadata": {
  "kernelspec": {
   "display_name": "dl_py3",
   "language": "python",
   "name": "dl_py3"
  },
  "language_info": {
   "codemirror_mode": {
    "name": "ipython",
    "version": 3
   },
   "file_extension": ".py",
   "mimetype": "text/x-python",
   "name": "python",
   "nbconvert_exporter": "python",
   "pygments_lexer": "ipython3",
   "version": "3.6.5"
  }
 },
 "nbformat": 4,
 "nbformat_minor": 1
}
