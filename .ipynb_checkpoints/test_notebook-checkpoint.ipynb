{
 "cells": [
  {
   "cell_type": "code",
   "execution_count": 1,
   "metadata": {
    "ExecuteTime": {
     "end_time": "2019-10-19T05:15:46.982127Z",
     "start_time": "2019-10-19T05:15:46.963998Z"
    },
    "collapsed": true
   },
   "outputs": [],
   "source": [
    "# you can write to stdout for debugging purposes, e.g.\n",
    "# print(\"this is a debug message\")\n",
    "\n",
    "def solution(A):\n",
    "    # write your code in Python 3.6\n",
    "    # check N is 1\n",
    "    # 서로 합해서 7되는거 있으면 안됨 \n",
    "    # 1. count elm\n",
    "    # 2. find max num of elm\n",
    "    # 3. \n",
    "    num_to_count = { num:0 for num in range(1,7)}\n",
    "    \n",
    "    for a in A:\n",
    "        num_to_count[a] += 1\n",
    "\n",
    "    max_count = 0\n",
    "    max_num_in_dice = A[0] # for just init\n",
    "    for num, count in num_to_count.items():\n",
    "        new_count = count - num_to_count[abs(7-num)]\n",
    "        if max_count < new_count:\n",
    "            new_count = new_count\n",
    "            max_num_in_dice = num\n",
    "    \n",
    "    total_count = 0\n",
    "    for num, count in num_to_count.items():\n",
    "        if num == max_num_in_dice:\n",
    "            continue\n",
    "        else:\n",
    "            if num == 7-max_num_in_dice:\n",
    "                total_count += count * 2\n",
    "            else:\n",
    "                total_count += count\n",
    "                \n",
    "    # print(\"A: \", A)\n",
    "    # print(num_to_count)\n",
    "    # print(\"max_num_in_dice: \", max_num_in_dice)\n",
    "    # print(\"total_count\", total_count)\n",
    "    \n",
    "    return total_count"
   ]
  },
  {
   "cell_type": "code",
   "execution_count": 9,
   "metadata": {
    "ExecuteTime": {
     "end_time": "2019-10-19T05:19:35.818202Z",
     "start_time": "2019-10-19T05:19:35.813836Z"
    }
   },
   "outputs": [
    {
     "data": {
      "text/plain": [
       "4.0"
      ]
     },
     "execution_count": 9,
     "metadata": {},
     "output_type": "execute_result"
    }
   ],
   "source": [
    "import math\n",
    "math.sqrt(16)"
   ]
  },
  {
   "cell_type": "code",
   "execution_count": 10,
   "metadata": {
    "ExecuteTime": {
     "end_time": "2019-10-19T05:24:07.723942Z",
     "start_time": "2019-10-19T05:24:07.718982Z"
    }
   },
   "outputs": [
    {
     "data": {
      "text/plain": [
       "3"
      ]
     },
     "execution_count": 10,
     "metadata": {},
     "output_type": "execute_result"
    }
   ],
   "source": [
    "math.floor(3.4)"
   ]
  },
  {
   "cell_type": "code",
   "execution_count": 11,
   "metadata": {
    "ExecuteTime": {
     "end_time": "2019-10-19T05:24:11.435635Z",
     "start_time": "2019-10-19T05:24:11.426764Z"
    }
   },
   "outputs": [
    {
     "data": {
      "text/plain": [
       "4"
      ]
     },
     "execution_count": 11,
     "metadata": {},
     "output_type": "execute_result"
    }
   ],
   "source": [
    "math.ceil(3.4)"
   ]
  },
  {
   "cell_type": "code",
   "execution_count": 12,
   "metadata": {
    "ExecuteTime": {
     "end_time": "2019-10-19T05:25:07.711543Z",
     "start_time": "2019-10-19T05:25:07.707744Z"
    },
    "collapsed": true
   },
   "outputs": [],
   "source": [
    "import math\n",
    "def count_squares(a ,b):\n",
    "    return (math.floor(math.sqrt(b)) - math.ceil(math.sqrt(a)) + 1)"
   ]
  },
  {
   "cell_type": "code",
   "execution_count": 16,
   "metadata": {
    "ExecuteTime": {
     "end_time": "2019-10-19T05:25:30.203530Z",
     "start_time": "2019-10-19T05:25:30.198225Z"
    }
   },
   "outputs": [
    {
     "data": {
      "text/plain": [
       "1"
      ]
     },
     "execution_count": 16,
     "metadata": {},
     "output_type": "execute_result"
    }
   ],
   "source": [
    "count_squares(4,8)"
   ]
  },
  {
   "cell_type": "code",
   "execution_count": 20,
   "metadata": {
    "ExecuteTime": {
     "end_time": "2019-10-19T05:55:52.001514Z",
     "start_time": "2019-10-19T05:55:51.996364Z"
    },
    "collapsed": true
   },
   "outputs": [],
   "source": [
    "# you can write to stdout for debugging purposes, e.g.\n",
    "# print(\"this is a debug message\")\n",
    "\n",
    "def solution(A, B):\n",
    "    # write your code in Python 3.6\n",
    "    # 소수로 푸는거 같은데..음\n",
    "    # A, B = 2, 1000000000\n",
    "    \n",
    "    memory_for_num_to_count = {}\n",
    "    max_count = 0\n",
    "    prime_checker = {0:0, 1:0, 4:0, 5:0, 6:0, 9:0}\n",
    "    for num in range(A, B+1):\n",
    "        if divmod(num, 10)[1] not in prime_checker:\n",
    "            continue\n",
    "        \n",
    "        count = count_sqrt(memory_for_num_to_count, num)\n",
    "        if max_count < count:\n",
    "            max_count = count\n",
    "            \n",
    "    # print(max_count)\n",
    "    return max_count\n",
    "        \n",
    "    \n",
    "def issqure(n):\n",
    "    return int(n ** 0.5) ** 2 == n\n",
    "        \n",
    "    \n",
    "def count_sqrt(m, num):\n",
    "    if num in m:\n",
    "        return m[num]\n",
    "    if issqure(num) is True:\n",
    "        if num not in m:\n",
    "            m[num] = 1\n",
    "        m[num] += count_sqrt(m, num ** 0.5)\n",
    "        return m[num]\n",
    "    else:\n",
    "        return 0\n",
    "        \n",
    "        \n",
    "        \n",
    "        \n",
    "# Example test:   (10, 20)\n",
    "# OK\n",
    "\n",
    "# Example test:   (6000, 7000)\n",
    "# OK        \n",
    "        \n",
    "# test로 테스트케이스 넣어서 시간초과하면 끝날수도있음\n",
    "# https://teus.me/9"
   ]
  },
  {
   "cell_type": "code",
   "execution_count": 19,
   "metadata": {
    "ExecuteTime": {
     "end_time": "2019-10-19T05:53:41.180562Z",
     "start_time": "2019-10-19T05:53:41.173616Z"
    }
   },
   "outputs": [
    {
     "data": {
      "text/plain": [
       "(5, 0)"
      ]
     },
     "execution_count": 19,
     "metadata": {},
     "output_type": "execute_result"
    }
   ],
   "source": [
    "divmod(10, 2)"
   ]
  },
  {
   "cell_type": "code",
   "execution_count": 21,
   "metadata": {
    "ExecuteTime": {
     "end_time": "2019-10-19T06:20:29.679583Z",
     "start_time": "2019-10-19T06:20:29.668730Z"
    },
    "collapsed": true
   },
   "outputs": [],
   "source": [
    "# you can write to stdout for debugging purposes, e.g.\n",
    "# print(\"this is a debug message\")\n",
    "\n",
    "def solution(A):\n",
    "    # write your code in Python 3.6\n",
    "    \n",
    "    prefix_sum = []\n",
    "    sum_val = 0\n",
    "    for a in A:\n",
    "        sum_val += a\n",
    "        prefix_sum.append(sum_val)\n",
    "    # print(\"prefix_sum: \", prefix_sum)\n",
    "    i, j = 1, len(A)-2\n",
    "    while True:\n",
    "        if i == j:\n",
    "            return False\n",
    "        # sum_left = sum(A[:i])\n",
    "        # sum_mid = sum(A[i+1:j])\n",
    "        # sum_right = sum(A[j+1:])\n",
    "        sum_left = prefix_sum[i-1]\n",
    "        sum_mid = prefix_sum[j-1] - prefix_sum[i] \n",
    "        sum_right = prefix_sum[-1] - prefix_sum[j]\n",
    "        # print(\"i: {}, j: {}, sum_left: {}, sum_mid: {}, sum_right: {}\".format(i,j,sum_left,sum_mid,sum_right))\n",
    "        \n",
    "        if sum_left == sum_mid and sum_right == sum_mid:\n",
    "            return True\n",
    "        else:\n",
    "            if sum_left < sum_right:\n",
    "                i += 1\n",
    "            else:\n",
    "                j -= 1\n",
    "        \n",
    "# https://codility-frontend-prod.s3.amazonaws.com/media/task_static/equi3_positive/static/images/auto/40ad8465c17d2a83b113655371a6b8e3.png\n",
    "# Example test:   [1, 3, 4, 2, 2, 2, 1, 1, 2]\n",
    "# OK\n",
    "\n",
    "# Example test:   [1, 1, 1, 1, 1, 1]\n",
    "# OK\n",
    "\n",
    "# Example test:   (Third example test.)\n",
    "# OK"
   ]
  },
  {
   "cell_type": "code",
   "execution_count": null,
   "metadata": {
    "collapsed": true
   },
   "outputs": [],
   "source": []
  }
 ],
 "metadata": {
  "kernelspec": {
   "display_name": "dl_py3",
   "language": "python",
   "name": "dl_py3"
  },
  "language_info": {
   "codemirror_mode": {
    "name": "ipython",
    "version": 3
   },
   "file_extension": ".py",
   "mimetype": "text/x-python",
   "name": "python",
   "nbconvert_exporter": "python",
   "pygments_lexer": "ipython3",
   "version": "3.6.5"
  }
 },
 "nbformat": 4,
 "nbformat_minor": 2
}
